{
  "nbformat": 4,
  "nbformat_minor": 0,
  "metadata": {
    "colab": {
      "name": "Homework_ML_4.ipynb",
      "provenance": [],
      "collapsed_sections": []
    },
    "kernelspec": {
      "name": "python3",
      "display_name": "Python 3"
    }
  },
  "cells": [
    {
      "cell_type": "code",
      "metadata": {
        "id": "4TRSXgrbqsa5"
      },
      "source": [
        "import pandas as pd\r\n",
        "import matplotlib.pyplot as plt\r\n",
        "import seaborn as sns;\r\n",
        "from scipy.spatial import distance\r\n",
        "from sklearn.preprocessing import StandardScaler\r\n",
        "import time\r\n",
        "import math\r\n",
        "sns.set()  \r\n",
        "import numpy as np\r\n",
        "from collections import defaultdict\r\n",
        "\r\n",
        "from numpy import dot\r\n",
        "from numpy.linalg import norm"
      ],
      "execution_count": null,
      "outputs": []
    },
    {
      "cell_type": "code",
      "metadata": {
        "id": "r0AZgX17lNX4"
      },
      "source": [
        "def lineToTuple(line):\n",
        "    # remove leading/trailing witespace and newlines\n",
        "    cleanLine = line.strip()\n",
        "    # get rid of quotes\n",
        "    cleanLine = cleanLine.replace('\"', '')\n",
        "    # separate the fields\n",
        "    lineList = cleanLine.split(\",\")\n",
        "    # convert strings into numbers\n",
        "    stringsToNumbers(lineList)\n",
        "    lineTuple = tuple(lineList)\n",
        "    return lineTuple"
      ],
      "execution_count": null,
      "outputs": []
    },
    {
      "cell_type": "code",
      "metadata": {
        "id": "PoslU3lUlVsn"
      },
      "source": [
        "def stringsToNumbers(myList):\n",
        "    for i in range(len(myList)):\n",
        "        if (isValidNumberString(myList[i])):\n",
        "            myList[i] = float(myList[i])\n"
      ],
      "execution_count": null,
      "outputs": []
    },
    {
      "cell_type": "code",
      "metadata": {
        "id": "In7zmwwelWWS"
      },
      "source": [
        "def isValidNumberString(s):\n",
        "  if len(s) == 0:\n",
        "    return False\n",
        "  if  len(s) > 1 and s[0] == \"-\":\n",
        "      s = s[1:]\n",
        "  for c in s:\n",
        "    if c not in \"0123456789.\":\n",
        "      return False\n",
        "  return True\n"
      ],
      "execution_count": null,
      "outputs": []
    },
    {
      "cell_type": "code",
      "metadata": {
        "id": "dE0DdQBupBjp"
      },
      "source": [
        "data = [\r\n",
        "    [3, 5],[3, 4],[2, 8], [2, 3],[6, 2],[6, 4],[7, 3],[7, 4],[8, 5],[7, 6]\r\n",
        "]"
      ],
      "execution_count": null,
      "outputs": []
    },
    {
      "cell_type": "code",
      "metadata": {
        "id": "wyIeiADP6trN"
      },
      "source": [
        "def loadCSV(fileName):\r\n",
        "    fileHandler = open(fileName, \"rt\")\r\n",
        "    lines = fileHandler.readlines()\r\n",
        "    fileHandler.close()\r\n",
        "    del lines[0]  # remove the header\r\n",
        "    dataset = []\r\n",
        "    for line in lines:\r\n",
        "        instance = lineToTuple(line)\r\n",
        "        dataset.append(instance)\r\n",
        "    return dataset"
      ],
      "execution_count": null,
      "outputs": []
    },
    {
      "cell_type": "code",
      "metadata": {
        "id": "IIuFIU_DlDdx"
      },
      "source": [
        "def euclidean_distance(point1, point2):\r\n",
        "    distance = 0\r\n",
        "    for a,b in zip(point1, point2):\r\n",
        "        distance += pow((a-b), 2)\r\n",
        "    return math.sqrt(distance)"
      ],
      "execution_count": null,
      "outputs": []
    },
    {
      "cell_type": "code",
      "metadata": {
        "id": "7QDoEsrylCrU"
      },
      "source": [
        "def manhattan_distance(point1, point2):\r\n",
        "    distance = 0\r\n",
        "    for a,b in zip(point1, point2):\r\n",
        "        distance += abs(a-b)\r\n",
        "    return distance"
      ],
      "execution_count": null,
      "outputs": []
    },
    {
      "cell_type": "code",
      "metadata": {
        "id": "KVlTe5NA_zGW"
      },
      "source": [
        "def cosine_similarity(point1, point2):\r\n",
        "  A = np.array(point1)\r\n",
        "  B = np.array(point2)\r\n",
        "  dist = 1 - np.dot(A,B)/(np.linalg.norm(A)*np.linalg.norm(B))\r\n",
        "  return dist"
      ],
      "execution_count": null,
      "outputs": []
    },
    {
      "cell_type": "code",
      "metadata": {
        "id": "UjfbSlLEBgky"
      },
      "source": [
        "def jaccard(A, B):\r\n",
        "    return 1 - (np.sum(np.minimum(A,B), axis = 0)/np.sum(np.maximum(A, B), axis = 0)) "
      ],
      "execution_count": null,
      "outputs": []
    },
    {
      "cell_type": "code",
      "metadata": {
        "id": "Yw8FfXMjrq4I"
      },
      "source": [
        "def calculate_centroid(cluster):\r\n",
        "  n = len(cluster[0])\r\n",
        "  if isinstance(cluster[0][-1], str):\r\n",
        "    centroid = [0]*(n-1)\r\n",
        "\r\n",
        "    for i in range(n-1):\r\n",
        "      for point in cluster:\r\n",
        "        centroid[i] += point[i]\r\n",
        "      centroid[i] = centroid[i]/len(cluster)\r\n",
        "  else:\r\n",
        "    centroid = [0]*n\r\n",
        "\r\n",
        "    for i in range(n):\r\n",
        "      for point in cluster:\r\n",
        "        centroid[i] += point[i]\r\n",
        "      centroid[i] = centroid[i]/len(cluster)\r\n",
        "\r\n",
        "  \r\n",
        "  return centroid"
      ],
      "execution_count": null,
      "outputs": []
    },
    {
      "cell_type": "code",
      "metadata": {
        "id": "8HJKAWshzkxh"
      },
      "source": [
        "def draw_and_scatter(clusters, centroid_centers):\r\n",
        "  colors = [\"red\",\"blue\",\"green\"]\r\n",
        "  for i,key in enumerate(clusters):\r\n",
        "    x = []\r\n",
        "    y = []\r\n",
        "    cluster = clusters[key]\r\n",
        "    for c in cluster:\r\n",
        "      x.append(c[0])\r\n",
        "      y.append(c[1])\r\n",
        "    plt.scatter(x, y, marker='^',c=colors[i])\r\n",
        "\r\n",
        "  for point in centroid_centers:\r\n",
        "    plt.scatter(point[0], point[1], marker='s')\r\n",
        "    \r\n",
        "  \r\n",
        "  plt.show()"
      ],
      "execution_count": null,
      "outputs": []
    },
    {
      "cell_type": "code",
      "metadata": {
        "id": "tMtRv0cMRW8e"
      },
      "source": [
        "def label_cluster(cluster):\r\n",
        "  cl = defaultdict(int)\r\n",
        "  for point in cluster:\r\n",
        "    cl[point[-1]] += 1\r\n",
        "  return cl"
      ],
      "execution_count": null,
      "outputs": []
    },
    {
      "cell_type": "code",
      "metadata": {
        "id": "HzRFjO0bltnu"
      },
      "source": [
        "class KMeans:\r\n",
        "  def __init__(self, n_clusters=3, max_iters=300, init_centroids=None, d_func=euclidean_distance, show_sse=False, show_first_centroid=False,centroid_stop=True):\r\n",
        "    self.n_clusters = n_clusters\r\n",
        "    self.max_iters = max_iters\r\n",
        "    self.init_centroids = init_centroids\r\n",
        "    self.d_func = d_func\r\n",
        "    self.sse_list = []\r\n",
        "    self.show_first_centroid = show_first_centroid\r\n",
        "    self.show_sse = show_sse\r\n",
        "\r\n",
        "  def fit(self, data):\r\n",
        "    start = time.time()\r\n",
        "    if self.init_centroids is None:\r\n",
        "      # Assign random points of data as centroids of size k (n_clusters)\r\n",
        "      random_choice = np.random.choice(range(len(data)), self.n_clusters, replace=False)\r\n",
        "      centroids = []\r\n",
        "\r\n",
        "      for choice in random_choice:\r\n",
        "        if isinstance(data[choice][-1], str):\r\n",
        "          centroids.append(data[choice][:-1])\r\n",
        "        else:\r\n",
        "          centroids.append(data[choice])\r\n",
        "      \r\n",
        "      self.init_centroids = centroids\r\n",
        "    \r\n",
        "    for loop in range(self.max_iters): \r\n",
        "      clusters = defaultdict(list)\r\n",
        "      sse = 0\r\n",
        "      # Now, assign each point to nearest centroid cluster\r\n",
        "\r\n",
        "      for point in data:\r\n",
        "        temp_centroid = -1\r\n",
        "        min_dist = 99999999\r\n",
        "        for i, centroid in enumerate(self.init_centroids):\r\n",
        "          if isinstance(point[-1], str):\r\n",
        "            d = self.d_func(point[:-1], centroid)\r\n",
        "          else:\r\n",
        "            d = self.d_func(point, centroid)\r\n",
        "          if d < min_dist:\r\n",
        "            temp_centroid = i\r\n",
        "            min_dist = d\r\n",
        "        \r\n",
        "        clusters[temp_centroid].append(point)\r\n",
        "\r\n",
        "      prev_centroids = self.init_centroids.copy()\r\n",
        "      # Now, recalculating the centroids\r\n",
        "      for key in clusters.keys():\r\n",
        "        cluster = clusters[key]\r\n",
        "        self.init_centroids[key] = calculate_centroid(cluster)\r\n",
        "\r\n",
        "      if loop == 1 and self.show_first_centroid == True:\r\n",
        "        print(\"Centroids after first iteration: \", self.init_centroids)\r\n",
        "\r\n",
        "      if self.init_centroids == prev_centroids:\r\n",
        "        break\r\n",
        "\r\n",
        "     \r\n",
        "      for key in clusters.keys():\r\n",
        "        cluster = clusters[key]\r\n",
        "        ce = self.init_centroids[key]\r\n",
        "\r\n",
        "        for p in cluster:\r\n",
        "          sse += euclidean_distance(ce, p)\r\n",
        "\r\n",
        "      if self.show_sse == True and loop > 1 and self.sse_list[-1] <= sse:\r\n",
        "        self.sse_list.pop()\r\n",
        "        break\r\n",
        "\r\n",
        "      self.sse_list.append(sse)\r\n",
        "\r\n",
        "    print(\"Time taken:\", time.time() - start)\r\n",
        "    print(\"Number of iterations:\", loop)\r\n",
        "    return [self.init_centroids, clusters]\r\n"
      ],
      "execution_count": null,
      "outputs": []
    },
    {
      "cell_type": "markdown",
      "metadata": {
        "id": "-TakniSsxcOe"
      },
      "source": [
        "Task 1: Question 1"
      ]
    },
    {
      "cell_type": "code",
      "metadata": {
        "colab": {
          "base_uri": "https://localhost:8080/",
          "height": 354
        },
        "id": "55z_GwnQnTx6",
        "outputId": "5910c97e-61e7-4736-b579-0df37f545733"
      },
      "source": [
        "kmeans = KMeans(n_clusters=2, init_centroids=[[4, 6],[5, 4]], d_func=manhattan_distance, show_first_centroid=True)\r\n",
        "[centroid_centers, clusters] = kmeans.fit(data)\r\n",
        "\r\n",
        "for key in clusters:\r\n",
        "  print(\"Final Cluster\", key+1, \":\", clusters[key])\r\n",
        "\r\n",
        "draw_and_scatter(clusters, centroid_centers)"
      ],
      "execution_count": null,
      "outputs": [
        {
          "output_type": "stream",
          "text": [
            "Centroids after first iteration:  [[4.0, 6.333333333333333], [5.571428571428571, 3.5714285714285716]]\n",
            "Time taken: 0.00032782554626464844\n",
            "Number of iterations: 1\n",
            "Final Cluster 1 : [[3, 5], [2, 8], [7, 6]]\n",
            "Final Cluster 2 : [[3, 4], [2, 3], [6, 2], [6, 4], [7, 3], [7, 4], [8, 5]]\n"
          ],
          "name": "stdout"
        },
        {
          "output_type": "display_data",
          "data": {
            "image/png": "[encoded data removed]",
            "text/plain": [
              "<Figure size 432x288 with 1 Axes>"
            ]
          },
          "metadata": {
            "tags": []
          }
        }
      ]
    },
    {
      "cell_type": "markdown",
      "metadata": {
        "id": "-48aVMcPxduf"
      },
      "source": [
        "Task 1: Question 2"
      ]
    },
    {
      "cell_type": "code",
      "metadata": {
        "colab": {
          "base_uri": "https://localhost:8080/",
          "height": 372
        },
        "id": "eRBt5WtXswOo",
        "outputId": "17a4f373-9772-4844-d67b-dcd0b65af84a"
      },
      "source": [
        "kmeans = KMeans(n_clusters=2, init_centroids=[[4, 6],[5, 4]], d_func=euclidean_distance, show_first_centroid=True)\r\n",
        "[centroid_centers, clusters] = kmeans.fit(data)\r\n",
        "\r\n",
        "for key in clusters:\r\n",
        "  print(\"Final Cluster\", key+1, \":\", clusters[key])\r\n",
        "\r\n",
        "draw_and_scatter(clusters, centroid_centers)\r\n",
        "print(kmeans.sse_list)"
      ],
      "execution_count": null,
      "outputs": [
        {
          "output_type": "stream",
          "text": [
            "Centroids after first iteration:  [[2.5, 5.0], [6.833333333333333, 4.0]]\n",
            "Time taken: 0.0003571510314941406\n",
            "Number of iterations: 2\n",
            "Final Cluster 1 : [[3, 5], [3, 4], [2, 8], [2, 3]]\n",
            "Final Cluster 2 : [[6, 2], [6, 4], [7, 3], [7, 4], [8, 5], [7, 6]]\n"
          ],
          "name": "stdout"
        },
        {
          "output_type": "display_data",
          "data": {
            "image/png": "[encoded data removed]",
            "text/plain": [
              "<Figure size 432x288 with 1 Axes>"
            ]
          },
          "metadata": {
            "tags": []
          }
        },
        {
          "output_type": "stream",
          "text": [
            "[19.699965039247633, 14.444951661105069]\n"
          ],
          "name": "stdout"
        }
      ]
    },
    {
      "cell_type": "markdown",
      "metadata": {
        "id": "9FZs8kdWxfGn"
      },
      "source": [
        " Task 1: Question 3"
      ]
    },
    {
      "cell_type": "code",
      "metadata": {
        "colab": {
          "base_uri": "https://localhost:8080/",
          "height": 354
        },
        "id": "dR78lq_Ct_IE",
        "outputId": "2d2d7462-9552-46f4-c84f-e6529a42a9e6"
      },
      "source": [
        "kmeans = KMeans(n_clusters=2, init_centroids=[[3, 3], [8, 3]], d_func=manhattan_distance, show_first_centroid=True)\r\n",
        "[centroid_centers, clusters] = kmeans.fit(data)\r\n",
        "\r\n",
        "for key in clusters:\r\n",
        "  print(\"Final Cluster\", key+1, \":\", clusters[key])\r\n",
        "\r\n",
        "draw_and_scatter(clusters, centroid_centers)"
      ],
      "execution_count": null,
      "outputs": [
        {
          "output_type": "stream",
          "text": [
            "Centroids after first iteration:  [[2.5, 5.0], [6.833333333333333, 4.0]]\n",
            "Time taken: 0.00028443336486816406\n",
            "Number of iterations: 1\n",
            "Final Cluster 1 : [[3, 5], [3, 4], [2, 8], [2, 3]]\n",
            "Final Cluster 2 : [[6, 2], [6, 4], [7, 3], [7, 4], [8, 5], [7, 6]]\n"
          ],
          "name": "stdout"
        },
        {
          "output_type": "display_data",
          "data": {
            "image/png": "[encoded data removed]",
            "text/plain": [
              "<Figure size 432x288 with 1 Axes>"
            ]
          },
          "metadata": {
            "tags": []
          }
        }
      ]
    },
    {
      "cell_type": "markdown",
      "metadata": {
        "id": "Bb7Djyrgxgi3"
      },
      "source": [
        "Task 1: Question 4"
      ]
    },
    {
      "cell_type": "code",
      "metadata": {
        "colab": {
          "base_uri": "https://localhost:8080/",
          "height": 354
        },
        "id": "OqZnduuxuxN5",
        "outputId": "f3b692d0-7dc6-4afd-a993-d793165802ab"
      },
      "source": [
        "kmeans = KMeans(n_clusters=2, init_centroids=[[3, 2], [4, 8]], d_func=manhattan_distance, show_first_centroid=True)\r\n",
        "[centroid_centers, clusters] = kmeans.fit(data)\r\n",
        "\r\n",
        "for key in clusters:\r\n",
        "  print(\"Final Cluster\", key+1, \":\", clusters[key])\r\n",
        "\r\n",
        "draw_and_scatter(clusters, centroid_centers)"
      ],
      "execution_count": null,
      "outputs": [
        {
          "output_type": "stream",
          "text": [
            "Centroids after first iteration:  [[4.857142857142857, 3.5714285714285716], [5.666666666666667, 6.333333333333333]]\n",
            "Time taken: 0.0002715587615966797\n",
            "Number of iterations: 1\n",
            "Final Cluster 1 : [[3, 5], [3, 4], [2, 3], [6, 2], [6, 4], [7, 3], [7, 4]]\n",
            "Final Cluster 2 : [[2, 8], [8, 5], [7, 6]]\n"
          ],
          "name": "stdout"
        },
        {
          "output_type": "display_data",
          "data": {
            "image/png": "[encoded data removed]",
            "text/plain": [
              "<Figure size 432x288 with 1 Axes>"
            ]
          },
          "metadata": {
            "tags": []
          }
        }
      ]
    },
    {
      "cell_type": "markdown",
      "metadata": {
        "id": "0u8mXL8YAjZe"
      },
      "source": [
        "Task 2:"
      ]
    },
    {
      "cell_type": "code",
      "metadata": {
        "colab": {
          "base_uri": "https://localhost:8080/"
        },
        "id": "EkcSlSK2rikI",
        "outputId": "2369296c-a8fc-4457-eafa-b03aabb15557"
      },
      "source": [
        "!wget https://archive.ics.uci.edu/ml/machine-learning-databases/iris/iris.data"
      ],
      "execution_count": null,
      "outputs": [
        {
          "output_type": "stream",
          "text": [
            "--2021-03-15 03:36:33--  https://archive.ics.uci.edu/ml/machine-learning-databases/iris/iris.data\n",
            "Resolving archive.ics.uci.edu (archive.ics.uci.edu)... 128.195.10.252\n",
            "Connecting to archive.ics.uci.edu (archive.ics.uci.edu)|128.195.10.252|:443... connected.\n",
            "HTTP request sent, awaiting response... 200 OK\n",
            "Length: 4551 (4.4K) [application/x-httpd-php]\n",
            "Saving to: ‘iris.data.6’\n",
            "\n",
            "\riris.data.6           0%[                    ]       0  --.-KB/s               \riris.data.6         100%[===================>]   4.44K  --.-KB/s    in 0s      \n",
            "\n",
            "2021-03-15 03:36:33 (26.8 MB/s) - ‘iris.data.6’ saved [4551/4551]\n",
            "\n"
          ],
          "name": "stdout"
        }
      ]
    },
    {
      "cell_type": "code",
      "metadata": {
        "id": "kxM5IkCV4VQ8"
      },
      "source": [
        "raw_iris_data = loadCSV('iris.data')"
      ],
      "execution_count": null,
      "outputs": []
    },
    {
      "cell_type": "code",
      "metadata": {
        "colab": {
          "base_uri": "https://localhost:8080/"
        },
        "id": "k337056L7BpS",
        "outputId": "6cd0a67f-1c4c-4ccf-b5a6-18454d4c9b08"
      },
      "source": [
        "iris_data = []\r\n",
        "del raw_iris_data[-1]\r\n",
        "\r\n",
        "for row in raw_iris_data:\r\n",
        "  iris_data.append([\r\n",
        "    row[0],\r\n",
        "    row[1],\r\n",
        "    row[2],\r\n",
        "    row[3],\r\n",
        "    row[4]\r\n",
        "  ])\r\n",
        "\r\n"
      ],
      "execution_count": null,
      "outputs": [
        {
          "output_type": "stream",
          "text": [
            "[[4.9, 3.0, 1.4, 0.2, 'Iris-setosa'], [4.7, 3.2, 1.3, 0.2, 'Iris-setosa'], [4.6, 3.1, 1.5, 0.2, 'Iris-setosa'], [5.0, 3.6, 1.4, 0.2, 'Iris-setosa'], [5.4, 3.9, 1.7, 0.4, 'Iris-setosa'], [4.6, 3.4, 1.4, 0.3, 'Iris-setosa'], [5.0, 3.4, 1.5, 0.2, 'Iris-setosa'], [4.4, 2.9, 1.4, 0.2, 'Iris-setosa'], [4.9, 3.1, 1.5, 0.1, 'Iris-setosa'], [5.4, 3.7, 1.5, 0.2, 'Iris-setosa'], [4.8, 3.4, 1.6, 0.2, 'Iris-setosa'], [4.8, 3.0, 1.4, 0.1, 'Iris-setosa'], [4.3, 3.0, 1.1, 0.1, 'Iris-setosa'], [5.8, 4.0, 1.2, 0.2, 'Iris-setosa'], [5.7, 4.4, 1.5, 0.4, 'Iris-setosa'], [5.4, 3.9, 1.3, 0.4, 'Iris-setosa'], [5.1, 3.5, 1.4, 0.3, 'Iris-setosa'], [5.7, 3.8, 1.7, 0.3, 'Iris-setosa'], [5.1, 3.8, 1.5, 0.3, 'Iris-setosa'], [5.4, 3.4, 1.7, 0.2, 'Iris-setosa'], [5.1, 3.7, 1.5, 0.4, 'Iris-setosa'], [4.6, 3.6, 1.0, 0.2, 'Iris-setosa'], [5.1, 3.3, 1.7, 0.5, 'Iris-setosa'], [4.8, 3.4, 1.9, 0.2, 'Iris-setosa'], [5.0, 3.0, 1.6, 0.2, 'Iris-setosa'], [5.0, 3.4, 1.6, 0.4, 'Iris-setosa'], [5.2, 3.5, 1.5, 0.2, 'Iris-setosa'], [5.2, 3.4, 1.4, 0.2, 'Iris-setosa'], [4.7, 3.2, 1.6, 0.2, 'Iris-setosa'], [4.8, 3.1, 1.6, 0.2, 'Iris-setosa'], [5.4, 3.4, 1.5, 0.4, 'Iris-setosa'], [5.2, 4.1, 1.5, 0.1, 'Iris-setosa'], [5.5, 4.2, 1.4, 0.2, 'Iris-setosa'], [4.9, 3.1, 1.5, 0.1, 'Iris-setosa'], [5.0, 3.2, 1.2, 0.2, 'Iris-setosa'], [5.5, 3.5, 1.3, 0.2, 'Iris-setosa'], [4.9, 3.1, 1.5, 0.1, 'Iris-setosa'], [4.4, 3.0, 1.3, 0.2, 'Iris-setosa'], [5.1, 3.4, 1.5, 0.2, 'Iris-setosa'], [5.0, 3.5, 1.3, 0.3, 'Iris-setosa'], [4.5, 2.3, 1.3, 0.3, 'Iris-setosa'], [4.4, 3.2, 1.3, 0.2, 'Iris-setosa'], [5.0, 3.5, 1.6, 0.6, 'Iris-setosa'], [5.1, 3.8, 1.9, 0.4, 'Iris-setosa'], [4.8, 3.0, 1.4, 0.3, 'Iris-setosa'], [5.1, 3.8, 1.6, 0.2, 'Iris-setosa'], [4.6, 3.2, 1.4, 0.2, 'Iris-setosa'], [5.3, 3.7, 1.5, 0.2, 'Iris-setosa'], [5.0, 3.3, 1.4, 0.2, 'Iris-setosa'], [7.0, 3.2, 4.7, 1.4, 'Iris-versicolor'], [6.4, 3.2, 4.5, 1.5, 'Iris-versicolor'], [6.9, 3.1, 4.9, 1.5, 'Iris-versicolor'], [5.5, 2.3, 4.0, 1.3, 'Iris-versicolor'], [6.5, 2.8, 4.6, 1.5, 'Iris-versicolor'], [5.7, 2.8, 4.5, 1.3, 'Iris-versicolor'], [6.3, 3.3, 4.7, 1.6, 'Iris-versicolor'], [4.9, 2.4, 3.3, 1.0, 'Iris-versicolor'], [6.6, 2.9, 4.6, 1.3, 'Iris-versicolor'], [5.2, 2.7, 3.9, 1.4, 'Iris-versicolor'], [5.0, 2.0, 3.5, 1.0, 'Iris-versicolor'], [5.9, 3.0, 4.2, 1.5, 'Iris-versicolor'], [6.0, 2.2, 4.0, 1.0, 'Iris-versicolor'], [6.1, 2.9, 4.7, 1.4, 'Iris-versicolor'], [5.6, 2.9, 3.6, 1.3, 'Iris-versicolor'], [6.7, 3.1, 4.4, 1.4, 'Iris-versicolor'], [5.6, 3.0, 4.5, 1.5, 'Iris-versicolor'], [5.8, 2.7, 4.1, 1.0, 'Iris-versicolor'], [6.2, 2.2, 4.5, 1.5, 'Iris-versicolor'], [5.6, 2.5, 3.9, 1.1, 'Iris-versicolor'], [5.9, 3.2, 4.8, 1.8, 'Iris-versicolor'], [6.1, 2.8, 4.0, 1.3, 'Iris-versicolor'], [6.3, 2.5, 4.9, 1.5, 'Iris-versicolor'], [6.1, 2.8, 4.7, 1.2, 'Iris-versicolor'], [6.4, 2.9, 4.3, 1.3, 'Iris-versicolor'], [6.6, 3.0, 4.4, 1.4, 'Iris-versicolor'], [6.8, 2.8, 4.8, 1.4, 'Iris-versicolor'], [6.7, 3.0, 5.0, 1.7, 'Iris-versicolor'], [6.0, 2.9, 4.5, 1.5, 'Iris-versicolor'], [5.7, 2.6, 3.5, 1.0, 'Iris-versicolor'], [5.5, 2.4, 3.8, 1.1, 'Iris-versicolor'], [5.5, 2.4, 3.7, 1.0, 'Iris-versicolor'], [5.8, 2.7, 3.9, 1.2, 'Iris-versicolor'], [6.0, 2.7, 5.1, 1.6, 'Iris-versicolor'], [5.4, 3.0, 4.5, 1.5, 'Iris-versicolor'], [6.0, 3.4, 4.5, 1.6, 'Iris-versicolor'], [6.7, 3.1, 4.7, 1.5, 'Iris-versicolor'], [6.3, 2.3, 4.4, 1.3, 'Iris-versicolor'], [5.6, 3.0, 4.1, 1.3, 'Iris-versicolor'], [5.5, 2.5, 4.0, 1.3, 'Iris-versicolor'], [5.5, 2.6, 4.4, 1.2, 'Iris-versicolor'], [6.1, 3.0, 4.6, 1.4, 'Iris-versicolor'], [5.8, 2.6, 4.0, 1.2, 'Iris-versicolor'], [5.0, 2.3, 3.3, 1.0, 'Iris-versicolor'], [5.6, 2.7, 4.2, 1.3, 'Iris-versicolor'], [5.7, 3.0, 4.2, 1.2, 'Iris-versicolor'], [5.7, 2.9, 4.2, 1.3, 'Iris-versicolor'], [6.2, 2.9, 4.3, 1.3, 'Iris-versicolor'], [5.1, 2.5, 3.0, 1.1, 'Iris-versicolor'], [5.7, 2.8, 4.1, 1.3, 'Iris-versicolor'], [6.3, 3.3, 6.0, 2.5, 'Iris-virginica'], [5.8, 2.7, 5.1, 1.9, 'Iris-virginica'], [7.1, 3.0, 5.9, 2.1, 'Iris-virginica'], [6.3, 2.9, 5.6, 1.8, 'Iris-virginica'], [6.5, 3.0, 5.8, 2.2, 'Iris-virginica'], [7.6, 3.0, 6.6, 2.1, 'Iris-virginica'], [4.9, 2.5, 4.5, 1.7, 'Iris-virginica'], [7.3, 2.9, 6.3, 1.8, 'Iris-virginica'], [6.7, 2.5, 5.8, 1.8, 'Iris-virginica'], [7.2, 3.6, 6.1, 2.5, 'Iris-virginica'], [6.5, 3.2, 5.1, 2.0, 'Iris-virginica'], [6.4, 2.7, 5.3, 1.9, 'Iris-virginica'], [6.8, 3.0, 5.5, 2.1, 'Iris-virginica'], [5.7, 2.5, 5.0, 2.0, 'Iris-virginica'], [5.8, 2.8, 5.1, 2.4, 'Iris-virginica'], [6.4, 3.2, 5.3, 2.3, 'Iris-virginica'], [6.5, 3.0, 5.5, 1.8, 'Iris-virginica'], [7.7, 3.8, 6.7, 2.2, 'Iris-virginica'], [7.7, 2.6, 6.9, 2.3, 'Iris-virginica'], [6.0, 2.2, 5.0, 1.5, 'Iris-virginica'], [6.9, 3.2, 5.7, 2.3, 'Iris-virginica'], [5.6, 2.8, 4.9, 2.0, 'Iris-virginica'], [7.7, 2.8, 6.7, 2.0, 'Iris-virginica'], [6.3, 2.7, 4.9, 1.8, 'Iris-virginica'], [6.7, 3.3, 5.7, 2.1, 'Iris-virginica'], [7.2, 3.2, 6.0, 1.8, 'Iris-virginica'], [6.2, 2.8, 4.8, 1.8, 'Iris-virginica'], [6.1, 3.0, 4.9, 1.8, 'Iris-virginica'], [6.4, 2.8, 5.6, 2.1, 'Iris-virginica'], [7.2, 3.0, 5.8, 1.6, 'Iris-virginica'], [7.4, 2.8, 6.1, 1.9, 'Iris-virginica'], [7.9, 3.8, 6.4, 2.0, 'Iris-virginica'], [6.4, 2.8, 5.6, 2.2, 'Iris-virginica'], [6.3, 2.8, 5.1, 1.5, 'Iris-virginica'], [6.1, 2.6, 5.6, 1.4, 'Iris-virginica'], [7.7, 3.0, 6.1, 2.3, 'Iris-virginica'], [6.3, 3.4, 5.6, 2.4, 'Iris-virginica'], [6.4, 3.1, 5.5, 1.8, 'Iris-virginica'], [6.0, 3.0, 4.8, 1.8, 'Iris-virginica'], [6.9, 3.1, 5.4, 2.1, 'Iris-virginica'], [6.7, 3.1, 5.6, 2.4, 'Iris-virginica'], [6.9, 3.1, 5.1, 2.3, 'Iris-virginica'], [5.8, 2.7, 5.1, 1.9, 'Iris-virginica'], [6.8, 3.2, 5.9, 2.3, 'Iris-virginica'], [6.7, 3.3, 5.7, 2.5, 'Iris-virginica'], [6.7, 3.0, 5.2, 2.3, 'Iris-virginica'], [6.3, 2.5, 5.0, 1.9, 'Iris-virginica'], [6.5, 3.0, 5.2, 2.0, 'Iris-virginica'], [6.2, 3.4, 5.4, 2.3, 'Iris-virginica'], [5.9, 3.0, 5.1, 1.8, 'Iris-virginica']]\n"
          ],
          "name": "stdout"
        }
      ]
    },
    {
      "cell_type": "code",
      "metadata": {
        "id": "h9VWYRMIko2F"
      },
      "source": [
        "target_labels = dict(label_cluster(iris_data))"
      ],
      "execution_count": null,
      "outputs": []
    },
    {
      "cell_type": "code",
      "metadata": {
        "colab": {
          "base_uri": "https://localhost:8080/",
          "height": 373
        },
        "id": "X8qGPKFN7wUn",
        "outputId": "156b92c0-1416-4931-8c06-357cfb14d761"
      },
      "source": [
        "kmeans = KMeans()\r\n",
        "[centroid_centers, clusters] = kmeans.fit(iris_data)\r\n",
        "\r\n",
        "labels = {'Iris-setosa': 0, 'Iris-versicolor': 0, 'Iris-virginica': 0}\r\n",
        "\r\n",
        "for key in clusters:\r\n",
        "  d = dict(label_cluster(clusters[key]))\r\n",
        "  mx = 0\r\n",
        "  s = 0\r\n",
        "  label = \"\"\r\n",
        "  for k in d:\r\n",
        "    s += d[k]\r\n",
        "    if d[k] > mx:\r\n",
        "      mx = d[k]\r\n",
        "      label = k\r\n",
        "  labels[label] = mx\r\n",
        "\r\n",
        "draw_and_scatter(clusters, centroid_centers)\r\n",
        "\r\n",
        "print(\"SSE =\",kmeans.sse_list)\r\n",
        "print(\"Original Labels: \", target_labels)\r\n",
        "print(\"Predicted Labels: \", labels)\r\n",
        "\r\n",
        "total = 0\r\n",
        "mismatch = 0\r\n",
        "\r\n",
        "for l in target_labels:\r\n",
        "  total += target_labels[l]\r\n",
        "  mismatch += abs(target_labels[l] - labels[l])\r\n",
        "\r\n",
        "accuracy = (total - mismatch) / total\r\n",
        "\r\n",
        "print(\"Accuracy =\",accuracy)"
      ],
      "execution_count": null,
      "outputs": [
        {
          "output_type": "stream",
          "text": [
            "Time taken: 0.00847315788269043\n",
            "Number of iterations: 8\n"
          ],
          "name": "stdout"
        },
        {
          "output_type": "display_data",
          "data": {
            "image/png": "[encoded data removed]",
            "text/plain": [
              "<Figure size 432x288 with 1 Axes>"
            ]
          },
          "metadata": {
            "tags": []
          }
        },
        {
          "output_type": "stream",
          "text": [
            "SSE = [98.3773878546629, 98.09248458845802, 97.78012517424725, 97.53463660880878, 97.36328582285084, 97.22367033834894, 97.08179358885708, 97.19577229449335]\n",
            "Original Labels:  {'Iris-setosa': 49, 'Iris-versicolor': 50, 'Iris-virginica': 50}\n",
            "Predicted Labels:  {'Iris-setosa': 49, 'Iris-versicolor': 47, 'Iris-virginica': 36}\n",
            "Accuracy = 0.8859060402684564\n"
          ],
          "name": "stdout"
        }
      ]
    },
    {
      "cell_type": "code",
      "metadata": {
        "colab": {
          "base_uri": "https://localhost:8080/",
          "height": 373
        },
        "id": "qCdhW-IC_WWA",
        "outputId": "1b06244a-1c88-40b5-9a87-08073eece461"
      },
      "source": [
        "kmeans = KMeans(d_func=cosine_similarity)\r\n",
        "[centroid_centers, clusters] = kmeans.fit(iris_data)\r\n",
        "\r\n",
        "labels = {'Iris-setosa': 0, 'Iris-versicolor': 0, 'Iris-virginica': 0}\r\n",
        "\r\n",
        "for key in clusters:\r\n",
        "  d = dict(label_cluster(clusters[key]))\r\n",
        "  mx = 0\r\n",
        "  s = 0\r\n",
        "  label = \"\"\r\n",
        "  for k in d:\r\n",
        "    s += d[k]\r\n",
        "    if d[k] > mx:\r\n",
        "      mx = d[k]\r\n",
        "      label = k\r\n",
        "  labels[label] = mx\r\n",
        "\r\n",
        "draw_and_scatter(clusters, centroid_centers)\r\n",
        "\r\n",
        "print(\"SSE =\",kmeans.sse_list)\r\n",
        "print(\"Original Labels: \", target_labels)\r\n",
        "print(\"Predicted Labels: \", labels)\r\n",
        "\r\n",
        "total = 0\r\n",
        "mismatch = 0\r\n",
        "\r\n",
        "for l in target_labels:\r\n",
        "  total += target_labels[l]\r\n",
        "  mismatch += abs(target_labels[l] - labels[l])\r\n",
        "\r\n",
        "accuracy = (total - mismatch) / total\r\n",
        "\r\n",
        "print(\"Accuracy =\",accuracy)"
      ],
      "execution_count": null,
      "outputs": [
        {
          "output_type": "stream",
          "text": [
            "Time taken: 0.04311561584472656\n",
            "Number of iterations: 4\n"
          ],
          "name": "stdout"
        },
        {
          "output_type": "display_data",
          "data": {
            "image/png": "[encoded data removed]",
            "text/plain": [
              "<Figure size 432x288 with 1 Axes>"
            ]
          },
          "metadata": {
            "tags": []
          }
        },
        {
          "output_type": "stream",
          "text": [
            "SSE = [171.7175384311167, 103.0526706196508, 100.55370791148181, 101.42234214063515]\n",
            "Original Labels:  {'Iris-setosa': 49, 'Iris-versicolor': 50, 'Iris-virginica': 50}\n",
            "Predicted Labels:  {'Iris-setosa': 49, 'Iris-versicolor': 46, 'Iris-virginica': 50}\n",
            "Accuracy = 0.9731543624161074\n"
          ],
          "name": "stdout"
        }
      ]
    },
    {
      "cell_type": "code",
      "metadata": {
        "colab": {
          "base_uri": "https://localhost:8080/",
          "height": 373
        },
        "id": "gUrLGg2qAnNV",
        "outputId": "25632c1f-40f2-4c19-b923-d72bb9733f49"
      },
      "source": [
        "kmeans = KMeans(d_func=jaccard)\r\n",
        "[centroid_centers, clusters] = kmeans.fit(iris_data)\r\n",
        "\r\n",
        "labels = {'Iris-setosa': 0, 'Iris-versicolor': 0, 'Iris-virginica': 0}\r\n",
        "\r\n",
        "for key in clusters:\r\n",
        "  d = dict(label_cluster(clusters[key]))\r\n",
        "  mx = 0\r\n",
        "  s = 0\r\n",
        "  label = \"\"\r\n",
        "  for k in d:\r\n",
        "    s += d[k]\r\n",
        "    if d[k] > mx:\r\n",
        "      mx = d[k]\r\n",
        "      label = k\r\n",
        "  labels[label] = mx\r\n",
        "\r\n",
        "draw_and_scatter(clusters, centroid_centers)\r\n",
        "\r\n",
        "print(\"SSE =\",kmeans.sse_list)\r\n",
        "print(\"Original Labels: \", target_labels)\r\n",
        "print(\"Predicted Labels: \", labels)\r\n",
        "\r\n",
        "total = 0\r\n",
        "mismatch = 0\r\n",
        "\r\n",
        "for l in target_labels:\r\n",
        "  total += target_labels[l]\r\n",
        "  mismatch += abs(target_labels[l] - labels[l])\r\n",
        "\r\n",
        "accuracy = (total - mismatch) / total\r\n",
        "\r\n",
        "print(\"Accuracy =\",accuracy)"
      ],
      "execution_count": null,
      "outputs": [
        {
          "output_type": "stream",
          "text": [
            "Time taken: 0.04107832908630371\n",
            "Number of iterations: 3\n"
          ],
          "name": "stdout"
        },
        {
          "output_type": "display_data",
          "data": {
            "image/png": "[encoded data removed]",
            "text/plain": [
              "<Figure size 432x288 with 1 Axes>"
            ]
          },
          "metadata": {
            "tags": []
          }
        },
        {
          "output_type": "stream",
          "text": [
            "SSE = [122.44049728293312, 97.52701939779713, 97.33688011669413]\n",
            "Original Labels:  {'Iris-setosa': 49, 'Iris-versicolor': 50, 'Iris-virginica': 50}\n",
            "Predicted Labels:  {'Iris-setosa': 49, 'Iris-versicolor': 47, 'Iris-virginica': 35}\n",
            "Accuracy = 0.8791946308724832\n"
          ],
          "name": "stdout"
        }
      ]
    },
    {
      "cell_type": "markdown",
      "metadata": {
        "id": "7vLxrPOG5ECo"
      },
      "source": [
        "Question 4: PART A"
      ]
    },
    {
      "cell_type": "code",
      "metadata": {
        "colab": {
          "base_uri": "https://localhost:8080/"
        },
        "id": "0LEK1zpf5CDh",
        "outputId": "22eb3a71-a18c-4b47-b36c-be38cdb34e55"
      },
      "source": [
        "print(\"Euclidean Distance\")\n",
        "kmeans = KMeans(centroid_stop=True)\n",
        "[centroid_centers, clusters] = kmeans.fit(iris_data)\n",
        "print(kmeans.sse_list)"
      ],
      "execution_count": null,
      "outputs": [
        {
          "output_type": "stream",
          "text": [
            "Euclidean Distance\n",
            "Time taken: 0.003737926483154297\n",
            "Number of iterations: 2\n",
            "[97.30122458977715, 97.17547683463661]\n"
          ],
          "name": "stdout"
        }
      ]
    },
    {
      "cell_type": "code",
      "metadata": {
        "colab": {
          "base_uri": "https://localhost:8080/"
        },
        "id": "q-9jb7l46jCK",
        "outputId": "7b18a9ac-2ef7-4d7f-903f-d358e60d397e"
      },
      "source": [
        "print(\"Cosine\")\n",
        "kmeans = KMeans(centroid_stop=True, d_func=cosine_similarity)\n",
        "[centroid_centers, clusters] = kmeans.fit(iris_data)\n",
        "print(kmeans.sse_list)"
      ],
      "execution_count": null,
      "outputs": [
        {
          "output_type": "stream",
          "text": [
            "Cosine\n",
            "Time taken: 0.06800031661987305\n",
            "Number of iterations: 5\n",
            "[216.15500376369465, 119.45502042695675, 104.75505859231562, 100.4419188176515, 101.42234214063515]\n"
          ],
          "name": "stdout"
        }
      ]
    },
    {
      "cell_type": "code",
      "metadata": {
        "colab": {
          "base_uri": "https://localhost:8080/"
        },
        "id": "LzOtqM_G6reL",
        "outputId": "263b3cb6-477d-4ad7-f3c6-53a4f9aacabd"
      },
      "source": [
        "print(\"Jaccards\")\n",
        "kmeans = KMeans(centroid_stop=True, d_func=jaccard)\n",
        "[centroid_centers, clusters] = kmeans.fit(iris_data)\n",
        "print(kmeans.sse_list)"
      ],
      "execution_count": null,
      "outputs": [
        {
          "output_type": "stream",
          "text": [
            "Jaccards\n",
            "Time taken: 0.11956954002380371\n",
            "Number of iterations: 10\n",
            "[111.5520640847671, 98.54715831466147, 98.09701911266787, 97.61501142826755, 97.52768037509921, 97.51640656409421, 97.73010216892689, 97.58049878656786, 97.53663742645342, 97.33688011669413]\n"
          ],
          "name": "stdout"
        }
      ]
    },
    {
      "cell_type": "markdown",
      "metadata": {
        "id": "O6OknLrK60o1"
      },
      "source": [
        "Question 4: PART B"
      ]
    },
    {
      "cell_type": "code",
      "metadata": {
        "colab": {
          "base_uri": "https://localhost:8080/"
        },
        "id": "ZqijuYzs62IQ",
        "outputId": "bf958334-5945-4bfe-fcc4-dbf0e05bfc1e"
      },
      "source": [
        "kmeans = KMeans(show_sse=True)\n",
        "[centroid_centers, clusters] = kmeans.fit(iris_data)\n",
        "print(kmeans.sse_list)"
      ],
      "execution_count": null,
      "outputs": [
        {
          "output_type": "stream",
          "text": [
            "Time taken: 0.012428045272827148\n",
            "Number of iterations: 6\n",
            "[204.0899792283422, 134.5034485399531, 103.72412625236628, 98.7779016487441, 97.59007956128406, 97.17547683463661]\n"
          ],
          "name": "stdout"
        }
      ]
    },
    {
      "cell_type": "code",
      "metadata": {
        "colab": {
          "base_uri": "https://localhost:8080/"
        },
        "id": "-ckRbfnZ68uX",
        "outputId": "a06c8338-6fd1-47fa-ed2e-6cee01e514ed"
      },
      "source": [
        "print(\"cosine\")\n",
        "kmeans = KMeans(show_sse=True, d_func=cosine_similarity)\n",
        "[centroid_centers, clusters] = kmeans.fit(iris_data)\n",
        "print(kmeans.sse_list)"
      ],
      "execution_count": null,
      "outputs": [
        {
          "output_type": "stream",
          "text": [
            "cosine\n",
            "Time taken: 0.03935980796813965\n",
            "Number of iterations: 3\n",
            "[125.20715862574053, 125.66383026320528, 125.28049872255403]\n"
          ],
          "name": "stdout"
        }
      ]
    },
    {
      "cell_type": "code",
      "metadata": {
        "colab": {
          "base_uri": "https://localhost:8080/"
        },
        "id": "b40UthKs6_hP",
        "outputId": "429ca3e0-8b20-4ae7-fa72-d7a309e57ee5"
      },
      "source": [
        "print(\"jaccard\")\n",
        "kmeans = KMeans(show_sse=True, d_func=jaccard)\n",
        "[centroid_centers, clusters] = kmeans.fit(iris_data)\n",
        "print(kmeans.sse_list)"
      ],
      "execution_count": null,
      "outputs": [
        {
          "output_type": "stream",
          "text": [
            "jaccard\n",
            "Time taken: 0.06187558174133301\n",
            "Number of iterations: 4\n",
            "[110.14895746834421, 102.64784993064632, 97.92065027342883]\n"
          ],
          "name": "stdout"
        }
      ]
    },
    {
      "cell_type": "markdown",
      "metadata": {
        "id": "i57zl1KP7BMY"
      },
      "source": [
        "Question 4: PART C"
      ]
    },
    {
      "cell_type": "code",
      "metadata": {
        "colab": {
          "base_uri": "https://localhost:8080/"
        },
        "id": "4UVudQje7Gcm",
        "outputId": "eeba2655-43fc-471b-8a7f-b3f1671eb252"
      },
      "source": [
        "kmeans = KMeans(max_iters=101, show_sse=False, centroid_stop=False)\n",
        "[centroid_centers, clusters] = kmeans.fit(iris_data)\n",
        "print(kmeans.sse_list)"
      ],
      "execution_count": null,
      "outputs": [
        {
          "output_type": "stream",
          "text": [
            "Time taken: 0.011427640914916992\n",
            "Number of iterations: 6\n",
            "[161.26148122562392, 114.9380643934611, 104.07286647896154, 98.7779016487441, 97.59007956128406, 97.17547683463661]\n"
          ],
          "name": "stdout"
        }
      ]
    },
    {
      "cell_type": "code",
      "metadata": {
        "colab": {
          "base_uri": "https://localhost:8080/"
        },
        "id": "aV4F4D4x7OpK",
        "outputId": "52e9dabb-e646-4da1-d426-c88824e80cdf"
      },
      "source": [
        "print(\"cosine\")\n",
        "kmeans = KMeans(max_iters=101, show_sse=False, centroid_stop=False, d_func=cosine_similarity)\n",
        "[centroid_centers, clusters] = kmeans.fit(iris_data)\n",
        "print(kmeans.sse_list)"
      ],
      "execution_count": null,
      "outputs": [
        {
          "output_type": "stream",
          "text": [
            "cosine\n",
            "Time taken: 0.04592156410217285\n",
            "Number of iterations: 2\n",
            "[102.21452610392635, 102.26916147701174]\n"
          ],
          "name": "stdout"
        }
      ]
    },
    {
      "cell_type": "code",
      "metadata": {
        "colab": {
          "base_uri": "https://localhost:8080/"
        },
        "id": "XkulBhaP7JXt",
        "outputId": "843c83dd-4532-4874-faed-e419db2f6dbb"
      },
      "source": [
        "print(\"jaccard\")\n",
        "kmeans = KMeans(max_iters=101, show_sse=False, centroid_stop=False, d_func=jaccard)\n",
        "[centroid_centers, clusters] = kmeans.fit(iris_data)\n",
        "print(kmeans.sse_list)"
      ],
      "execution_count": null,
      "outputs": [
        {
          "output_type": "stream",
          "text": [
            "jaccard\n",
            "Time taken: 0.07601475715637207\n",
            "Number of iterations: 6\n",
            "[124.96448912121068, 122.4132840705535, 121.74982225999531, 121.29079048666351, 121.36434918888395, 121.259693322016]\n"
          ],
          "name": "stdout"
        }
      ]
    },
    {
      "cell_type": "markdown",
      "metadata": {
        "id": "xrm94QPRNfNh"
      },
      "source": [
        "Task 3:"
      ]
    },
    {
      "cell_type": "code",
      "metadata": {
        "id": "YAqzP56XBp7P",
        "colab": {
          "base_uri": "https://localhost:8080/"
        },
        "outputId": "3ffa1525-67ea-4c39-97b6-4fa5e43bfd8a"
      },
      "source": [
        "red = [(4.7, 3.2), (4.9, 3.1), (5.0, 3.0), (4.6, 2.9)]\r\n",
        "blue = [(5.9, 3.2), (6.7, 3.1), (6.0, 3.0), (6.2, 2.8)]\r\n",
        "\r\n",
        "dists = []\r\n",
        "d = 0\r\n",
        "for i in red:\r\n",
        "    for j in blue:\r\n",
        "        dists.append([euclidean_distance(i, j), [i, j]])\r\n",
        "        d += dists[-1][0]\r\n",
        "\r\n",
        "dists.sort()\r\n",
        "\r\n",
        "print(\"Closest distanace between points is {:.4f} between {} and {}\".format(dists[0][0], dists[0][1][0], dists[0][1][1]))\r\n",
        "print(\"Farthest distance between  points is {:.4f} between {} and {}\".format(dists[-1][0], dists[-1][1][0], dists[-1][1][1]))\r\n",
        "print(\"Avg of all distances is {:.4f}\".format(d/len(dists)))"
      ],
      "execution_count": null,
      "outputs": [
        {
          "output_type": "stream",
          "text": [
            "Closest distanace between points is 0.9220 between (5.0, 3.0) and (5.9, 3.2)\n",
            "Farthest distance between  points is 2.1095 between (4.6, 2.9) and (6.7, 3.1)\n",
            "Avg of all distances is 1.4129\n"
          ],
          "name": "stdout"
        }
      ]
    }
  ]
}
