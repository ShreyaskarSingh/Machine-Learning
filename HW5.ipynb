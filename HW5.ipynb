{
  "nbformat": 4,
  "nbformat_minor": 0,
  "metadata": {
    "colab": {
      "name": "My_HW5.ipynb",
      "provenance": [],
      "authorship_tag": "ABX9TyMsgCEAtyNR3n+vueDRLSzD",
      "include_colab_link": true
    },
    "kernelspec": {
      "name": "python3",
      "display_name": "Python 3"
    },
    "language_info": {
      "name": "python"
    }
  },
  "cells": [
    {
      "cell_type": "markdown",
      "metadata": {
        "id": "view-in-github",
        "colab_type": "text"
      },
      "source": [
        "<a href=\"https://colab.research.google.com/github/ShreyaskarSingh/ML/blob/main/My_HW5.ipynb\" target=\"_parent\"><img src=\"https://colab.research.google.com/assets/colab-badge.svg\" alt=\"Open In Colab\"/></a>"
      ]
    },
    {
      "cell_type": "code",
      "metadata": {
        "colab": {
          "base_uri": "https://localhost:8080/"
        },
        "id": "8YW91G-7hZ1m",
        "outputId": "6bb70185-3c88-4c9a-ee48-4a2f622032f0"
      },
      "source": [
        "!pip install surprise\n",
        "import pandas as pd\n",
        "from surprise import KNNBasic,Reader, Dataset, SVD\n",
        "from surprise.model_selection import KFold, cross_validate\n",
        "import numpy as np\n"
      ],
      "execution_count": 18,
      "outputs": [
        {
          "output_type": "stream",
          "text": [
            "Requirement already satisfied: surprise in /usr/local/lib/python3.7/dist-packages (0.1)\n",
            "Requirement already satisfied: scikit-surprise in /usr/local/lib/python3.7/dist-packages (from surprise) (1.1.1)\n",
            "Requirement already satisfied: joblib>=0.11 in /usr/local/lib/python3.7/dist-packages (from scikit-surprise->surprise) (1.0.1)\n",
            "Requirement already satisfied: six>=1.10.0 in /usr/local/lib/python3.7/dist-packages (from scikit-surprise->surprise) (1.15.0)\n",
            "Requirement already satisfied: numpy>=1.11.2 in /usr/local/lib/python3.7/dist-packages (from scikit-surprise->surprise) (1.19.5)\n",
            "Requirement already satisfied: scipy>=1.0.0 in /usr/local/lib/python3.7/dist-packages (from scikit-surprise->surprise) (1.4.1)\n"
          ],
          "name": "stdout"
        }
      ]
    },
    {
      "cell_type": "markdown",
      "metadata": {
        "id": "Q3tk0V8Ym1gD"
      },
      "source": [
        "**Task 3.a Data**"
      ]
    },
    {
      "cell_type": "code",
      "metadata": {
        "id": "9aHkagwsm5t6"
      },
      "source": [
        "reader = Reader(line_format='user item rating timestamp', sep=',', skip_lines = 1)\n",
        "data = Dataset.load_from_file('./ratings_small.csv', reader=reader)"
      ],
      "execution_count": 2,
      "outputs": []
    },
    {
      "cell_type": "markdown",
      "metadata": {
        "id": "UWHYKBwluEOl"
      },
      "source": [
        "# **Task 3 c and d**"
      ]
    },
    {
      "cell_type": "markdown",
      "metadata": {
        "id": "oQRw4IPZngXB"
      },
      "source": [
        "PROBABILISTIC MATRIX FACTORIZATION"
      ]
    },
    {
      "cell_type": "code",
      "metadata": {
        "colab": {
          "base_uri": "https://localhost:8080/"
        },
        "id": "dpEjweJCnbNM",
        "outputId": "1c61ea6d-9338-4121-c6ec-15875b0daabd"
      },
      "source": [
        "svd = SVD(biased=False)\n",
        "scores = cross_validate(svd, data, measures=['RMSE', 'MAE'], cv=5, verbose=True);\n",
        "mean_mae = scores['test_mae'].mean()\n",
        "mean_rsme = scores['test_rmse'].mean()\n",
        "\n",
        "print(f'MEAN OF MAE FOR PMF UNDER 5-FOLD IS : {mean_mae}')\n",
        "print(f'MEAN OF RMSE FOR PMF UNDER 5-FOLD IS: {mean_rsme}')"
      ],
      "execution_count": 9,
      "outputs": [
        {
          "output_type": "stream",
          "text": [
            "Evaluating RMSE, MAE of algorithm SVD on 5 split(s).\n",
            "\n",
            "                  Fold 1  Fold 2  Fold 3  Fold 4  Fold 5  Mean    Std     \n",
            "RMSE (testset)    1.0055  1.0159  1.0132  1.0078  1.0128  1.0110  0.0038  \n",
            "MAE (testset)     0.7751  0.7819  0.7807  0.7797  0.7833  0.7801  0.0028  \n",
            "Fit time          4.73    4.70    4.69    4.63    4.65    4.68    0.04    \n",
            "Test time         0.16    0.14    0.26    0.15    0.25    0.19    0.05    \n",
            "MEAN OF MAE FOR PMF UNDER 5-FOLD IS : 0.7801436028684202\n",
            "MEAN OF RMSE FOR PMF UNDER 5-FOLD IS: 1.0110355084456193\n"
          ],
          "name": "stdout"
        }
      ]
    },
    {
      "cell_type": "markdown",
      "metadata": {
        "id": "K04CHsoKoBoM"
      },
      "source": [
        "USER BASED COLLABORATIVE FILTERING"
      ]
    },
    {
      "cell_type": "code",
      "metadata": {
        "colab": {
          "base_uri": "https://localhost:8080/"
        },
        "id": "M0WKB7hUoAzP",
        "outputId": "6b8e5673-ec81-48aa-d5e0-408d1c2a8f2e"
      },
      "source": [
        "sim_options = {'user_based': True}\n",
        "user_based_cf = KNNBasic(sim_options=sim_options)\n",
        "cv_ub = cross_validate(user_based_cf, data, measures=['RMSE', 'MAE'], cv=5, verbose=True);\n",
        "mean_mae = cv_ub['test_mae'].mean()\n",
        "mean_rsme = cv_ub['test_rmse'].mean()\n",
        "\n",
        "print(f'Average MAE: {mean_mae}')\n",
        "print(f'Average RMSE: {mean_rsme}')"
      ],
      "execution_count": 6,
      "outputs": [
        {
          "output_type": "stream",
          "text": [
            "Computing the msd similarity matrix...\n",
            "Done computing similarity matrix.\n",
            "Computing the msd similarity matrix...\n",
            "Done computing similarity matrix.\n",
            "Computing the msd similarity matrix...\n",
            "Done computing similarity matrix.\n",
            "Computing the msd similarity matrix...\n",
            "Done computing similarity matrix.\n",
            "Computing the msd similarity matrix...\n",
            "Done computing similarity matrix.\n",
            "Evaluating RMSE, MAE of algorithm KNNBasic on 5 split(s).\n",
            "\n",
            "                  Fold 1  Fold 2  Fold 3  Fold 4  Fold 5  Mean    Std     \n",
            "RMSE (testset)    0.9674  0.9574  0.9702  0.9723  0.9662  0.9667  0.0051  \n",
            "MAE (testset)     0.7448  0.7341  0.7450  0.7493  0.7418  0.7430  0.0050  \n",
            "Fit time          0.12    0.15    0.15    0.15    0.16    0.15    0.01    \n",
            "Test time         1.80    1.82    1.72    1.81    1.79    1.79    0.04    \n",
            "Average MAE: 0.7429935477957853\n",
            "Average RMSE: 0.9667101139955214\n"
          ],
          "name": "stdout"
        }
      ]
    },
    {
      "cell_type": "markdown",
      "metadata": {
        "id": "MIDvm-DgtUHT"
      },
      "source": [
        "ITEM BASED COLLABORATIVE FILTERING"
      ]
    },
    {
      "cell_type": "code",
      "metadata": {
        "colab": {
          "base_uri": "https://localhost:8080/"
        },
        "id": "XnOC-py5pNrk",
        "outputId": "72f2b754-f010-452a-d3c0-66dedd0bec7c"
      },
      "source": [
        "sim_options = {'user_based': False}\n",
        "item_based_cf = KNNBasic(sim_options=sim_options)\n",
        "cv_ib = cross_validate(item_based_cf, data, measures=['RMSE', 'MAE'], cv=5, verbose=True);\n",
        "\n",
        "\n",
        "mean_mae = cv_ib['test_mae'].mean()\n",
        "mean_rsme = cv_ib['test_rmse'].mean()\n",
        "\n",
        "print(f'Average MAE : {mean_mae}')\n",
        "print(f'Average RMSE : {mean_rsme}')"
      ],
      "execution_count": 7,
      "outputs": [
        {
          "output_type": "stream",
          "text": [
            "Computing the msd similarity matrix...\n",
            "Done computing similarity matrix.\n",
            "Computing the msd similarity matrix...\n",
            "Done computing similarity matrix.\n",
            "Computing the msd similarity matrix...\n",
            "Done computing similarity matrix.\n",
            "Computing the msd similarity matrix...\n",
            "Done computing similarity matrix.\n",
            "Computing the msd similarity matrix...\n",
            "Done computing similarity matrix.\n",
            "Evaluating RMSE, MAE of algorithm KNNBasic on 5 split(s).\n",
            "\n",
            "                  Fold 1  Fold 2  Fold 3  Fold 4  Fold 5  Mean    Std     \n",
            "RMSE (testset)    0.9343  0.9384  0.9370  0.9300  0.9352  0.9350  0.0029  \n",
            "MAE (testset)     0.7208  0.7231  0.7229  0.7180  0.7225  0.7215  0.0019  \n",
            "Fit time          4.24    4.20    3.70    3.65    3.74    3.91    0.26    \n",
            "Test time         6.98    7.21    6.95    6.92    7.20    7.05    0.13    \n",
            "Average MAE : 0.7214601255496771\n",
            "Average RMSE : 0.9349637536188847\n"
          ],
          "name": "stdout"
        }
      ]
    },
    {
      "cell_type": "markdown",
      "metadata": {
        "id": "7fHw10jH2f0T"
      },
      "source": [
        "# **Task 3 E**"
      ]
    },
    {
      "cell_type": "markdown",
      "metadata": {
        "id": "hKQRjWVt75ra"
      },
      "source": [
        "IMPACT OF METRICS ON ITEM AND USER BASED COLLAB. FILTERING"
      ]
    },
    {
      "cell_type": "code",
      "metadata": {
        "colab": {
          "base_uri": "https://localhost:8080/",
          "height": 896
        },
        "id": "Ai1nDReQ7_PZ",
        "outputId": "dbb3ab01-2b18-4539-dbca-61c44e209bb9"
      },
      "source": [
        "ifig=1\n",
        "labels = ['USER-BASED COLLAB. FILTERING', 'ITEM-BASED COLLAB. FILTERING']\n",
        "x = np.arange(0, len(labels) * 2.5, 2.5)\n",
        "width = 0.5\n",
        "plt.figure(ifig)\n",
        "fig, ax = plt.subplots(figsize=(15,15))\n",
        "for i in range(len(measures)):\n",
        "    ax.bar(x - (width * len(measures)) / 2 + i * width, [ub_mae[i], ib_mae[i]], width, label=measures[i])\n",
        "plt.xticks(x - width / 2, labels)\n",
        "plt.title('ITEM AND USER BASED COLLABORATIVE FILTERING FOR MAE')\n",
        "plt.ylabel('mae')\n",
        "plt.grid(axis='y')\n",
        "plt.legend()\n",
        "plt.show()"
      ],
      "execution_count": 26,
      "outputs": [
        {
          "output_type": "display_data",
          "data": {
            "text/plain": [
              "<Figure size 432x288 with 0 Axes>"
            ]
          },
          "metadata": {
            "tags": []
          }
        },
        {
          "output_type": "display_data",
          "data": {
            "image/png": "[encoded data removed]",
            "text/plain": [
              "<Figure size 1080x1080 with 1 Axes>"
            ]
          },
          "metadata": {
            "tags": [],
            "needs_background": "light"
          }
        }
      ]
    },
    {
      "cell_type": "code",
      "metadata": {
        "colab": {
          "base_uri": "https://localhost:8080/",
          "height": 624
        },
        "id": "Lt9P4nqo8GRh",
        "outputId": "26cec233-bec8-45a1-e458-4c6876cd53af"
      },
      "source": [
        "ifig=1\n",
        "labels = ['USER-BASED COLLAB. FILTERING', 'ITEM-BASED COLLAB. FILTERING']\n",
        "measures = ['cosine', 'MSD', 'pearson_baseline']\n",
        "x = np.arange(0, len(labels) * 2.5, 2.5)\n",
        "width = 0.5\n",
        "plt.figure(ifig)\n",
        "fig, ax = plt.subplots(figsize=(15,10))\n",
        "for i in range(len(measures)):\n",
        "    ax.bar(x - (width * len(measures)) / 2 + i * width, [ub_rmse[i], ib_rmse[i]], width, label=measures[i])\n",
        "plt.xticks(x - width / 2, labels)\n",
        "plt.title('ITEM AND USER BASED COLLABORATIVE FILTERING FOR RMSE')\n",
        "plt.ylabel('RMSE')\n",
        "plt.grid(axis='y')\n",
        "plt.legend()\n",
        "plt.show()"
      ],
      "execution_count": 37,
      "outputs": [
        {
          "output_type": "display_data",
          "data": {
            "text/plain": [
              "<Figure size 432x288 with 0 Axes>"
            ]
          },
          "metadata": {
            "tags": []
          }
        },
        {
          "output_type": "display_data",
          "data": {
            "image/png": "[encoded data removed]",
            "text/plain": [
              "<Figure size 1080x720 with 1 Axes>"
            ]
          },
          "metadata": {
            "tags": [],
            "needs_background": "light"
          }
        }
      ]
    },
    {
      "cell_type": "markdown",
      "metadata": {
        "id": "rnLFYAcf9IxC"
      },
      "source": [
        "# Task 3 F and G"
      ]
    },
    {
      "cell_type": "markdown",
      "metadata": {
        "id": "Xu328deZ-Y6E"
      },
      "source": [
        "**For UCF**"
      ]
    },
    {
      "cell_type": "code",
      "metadata": {
        "colab": {
          "base_uri": "https://localhost:8080/"
        },
        "id": "7vc09Zzp9Ig7",
        "outputId": "3c6d32c6-bac5-4840-a21a-bd516d55157e"
      },
      "source": [
        "min_k = 1\n",
        "mean = 2000\n",
        "ucf_k_results = []\n",
        "measures = ['RMSE', 'MAE']\n",
        "\n",
        "for i in range(20):\n",
        "  knn_ucf = KNNBasic(sim_options={'user_based': True}, k=i)\n",
        "  cv_knn_ucf = cross_validate(knn_ucf, data, measures, verbose=True, cv=5)\n",
        "\n",
        "  curr_mean = cv_knn_ucf['test_rmse'].mean()\n",
        "  if curr_mean < mean:\n",
        "    mean = curr_mean\n",
        "    min_k = i\n",
        "  ucf_k_results.append(curr_mean)\n",
        "  print(i)\n",
        "\n",
        "print(min_k, mean)"
      ],
      "execution_count": 29,
      "outputs": [
        {
          "output_type": "stream",
          "text": [
            "Computing the msd similarity matrix...\n",
            "Done computing similarity matrix.\n",
            "Computing the msd similarity matrix...\n",
            "Done computing similarity matrix.\n",
            "Computing the msd similarity matrix...\n",
            "Done computing similarity matrix.\n",
            "Computing the msd similarity matrix...\n",
            "Done computing similarity matrix.\n",
            "Computing the msd similarity matrix...\n",
            "Done computing similarity matrix.\n",
            "Evaluating RMSE, MAE of algorithm KNNBasic on 5 split(s).\n",
            "\n",
            "                  Fold 1  Fold 2  Fold 3  Fold 4  Fold 5  Mean    Std     \n",
            "RMSE (testset)    1.0581  1.0535  1.0596  1.0561  1.0631  1.0581  0.0032  \n",
            "MAE (testset)     0.8486  0.8473  0.8524  0.8463  0.8544  0.8498  0.0031  \n",
            "Fit time          0.11    0.14    0.15    0.15    0.15    0.14    0.01    \n",
            "Test time         0.68    0.91    0.71    0.89    0.70    0.78    0.10    \n",
            "0\n",
            "Computing the msd similarity matrix...\n",
            "Done computing similarity matrix.\n",
            "Computing the msd similarity matrix...\n",
            "Done computing similarity matrix.\n",
            "Computing the msd similarity matrix...\n",
            "Done computing similarity matrix.\n",
            "Computing the msd similarity matrix...\n",
            "Done computing similarity matrix.\n",
            "Computing the msd similarity matrix...\n",
            "Done computing similarity matrix.\n",
            "Evaluating RMSE, MAE of algorithm KNNBasic on 5 split(s).\n",
            "\n",
            "                  Fold 1  Fold 2  Fold 3  Fold 4  Fold 5  Mean    Std     \n",
            "RMSE (testset)    1.2047  1.2088  1.2014  1.2097  1.2170  1.2083  0.0053  \n",
            "MAE (testset)     0.8967  0.9024  0.8950  0.9040  0.9099  0.9016  0.0053  \n",
            "Fit time          0.12    0.14    0.15    0.15    0.15    0.14    0.01    \n",
            "Test time         1.02    0.86    1.01    0.84    0.86    0.92    0.08    \n",
            "1\n",
            "Computing the msd similarity matrix...\n",
            "Done computing similarity matrix.\n",
            "Computing the msd similarity matrix...\n",
            "Done computing similarity matrix.\n",
            "Computing the msd similarity matrix...\n",
            "Done computing similarity matrix.\n",
            "Computing the msd similarity matrix...\n",
            "Done computing similarity matrix.\n",
            "Computing the msd similarity matrix...\n",
            "Done computing similarity matrix.\n",
            "Evaluating RMSE, MAE of algorithm KNNBasic on 5 split(s).\n",
            "\n",
            "                  Fold 1  Fold 2  Fold 3  Fold 4  Fold 5  Mean    Std     \n",
            "RMSE (testset)    1.0706  1.0837  1.0750  1.0703  1.0668  1.0733  0.0058  \n",
            "MAE (testset)     0.8125  0.8257  0.8184  0.8189  0.8122  0.8175  0.0049  \n",
            "Fit time          0.13    0.15    0.14    0.15    0.15    0.14    0.01    \n",
            "Test time         0.96    1.18    0.99    1.02    0.97    1.02    0.08    \n",
            "2\n",
            "Computing the msd similarity matrix...\n",
            "Done computing similarity matrix.\n",
            "Computing the msd similarity matrix...\n",
            "Done computing similarity matrix.\n",
            "Computing the msd similarity matrix...\n",
            "Done computing similarity matrix.\n",
            "Computing the msd similarity matrix...\n",
            "Done computing similarity matrix.\n",
            "Computing the msd similarity matrix...\n",
            "Done computing similarity matrix.\n",
            "Evaluating RMSE, MAE of algorithm KNNBasic on 5 split(s).\n",
            "\n",
            "                  Fold 1  Fold 2  Fold 3  Fold 4  Fold 5  Mean    Std     \n",
            "RMSE (testset)    1.0218  1.0220  1.0205  1.0291  1.0315  1.0250  0.0045  \n",
            "MAE (testset)     0.7833  0.7853  0.7817  0.7873  0.7876  0.7850  0.0023  \n",
            "Fit time          0.12    0.15    0.15    0.15    0.14    0.14    0.01    \n",
            "Test time         1.03    1.02    1.03    1.04    1.03    1.03    0.01    \n",
            "3\n",
            "Computing the msd similarity matrix...\n",
            "Done computing similarity matrix.\n",
            "Computing the msd similarity matrix...\n",
            "Done computing similarity matrix.\n",
            "Computing the msd similarity matrix...\n",
            "Done computing similarity matrix.\n",
            "Computing the msd similarity matrix...\n",
            "Done computing similarity matrix.\n",
            "Computing the msd similarity matrix...\n",
            "Done computing similarity matrix.\n",
            "Evaluating RMSE, MAE of algorithm KNNBasic on 5 split(s).\n",
            "\n",
            "                  Fold 1  Fold 2  Fold 3  Fold 4  Fold 5  Mean    Std     \n",
            "RMSE (testset)    1.0030  1.0038  0.9995  0.9931  0.9977  0.9994  0.0039  \n",
            "MAE (testset)     0.7691  0.7652  0.7649  0.7598  0.7628  0.7643  0.0030  \n",
            "Fit time          0.11    0.14    0.15    0.14    0.14    0.14    0.01    \n",
            "Test time         1.05    1.07    1.07    1.07    1.07    1.06    0.01    \n",
            "4\n",
            "Computing the msd similarity matrix...\n",
            "Done computing similarity matrix.\n",
            "Computing the msd similarity matrix...\n",
            "Done computing similarity matrix.\n",
            "Computing the msd similarity matrix...\n",
            "Done computing similarity matrix.\n",
            "Computing the msd similarity matrix...\n",
            "Done computing similarity matrix.\n",
            "Computing the msd similarity matrix...\n",
            "Done computing similarity matrix.\n",
            "Evaluating RMSE, MAE of algorithm KNNBasic on 5 split(s).\n",
            "\n",
            "                  Fold 1  Fold 2  Fold 3  Fold 4  Fold 5  Mean    Std     \n",
            "RMSE (testset)    0.9889  0.9846  0.9965  0.9845  0.9846  0.9878  0.0046  \n",
            "MAE (testset)     0.7554  0.7502  0.7639  0.7530  0.7520  0.7549  0.0048  \n",
            "Fit time          0.12    0.14    0.15    0.14    0.15    0.14    0.01    \n",
            "Test time         1.10    1.10    1.09    1.10    1.10    1.10    0.01    \n",
            "5\n",
            "Computing the msd similarity matrix...\n",
            "Done computing similarity matrix.\n",
            "Computing the msd similarity matrix...\n",
            "Done computing similarity matrix.\n",
            "Computing the msd similarity matrix...\n",
            "Done computing similarity matrix.\n",
            "Computing the msd similarity matrix...\n",
            "Done computing similarity matrix.\n",
            "Computing the msd similarity matrix...\n",
            "Done computing similarity matrix.\n",
            "Evaluating RMSE, MAE of algorithm KNNBasic on 5 split(s).\n",
            "\n",
            "                  Fold 1  Fold 2  Fold 3  Fold 4  Fold 5  Mean    Std     \n",
            "RMSE (testset)    0.9771  0.9835  0.9754  0.9813  0.9823  0.9799  0.0031  \n",
            "MAE (testset)     0.7465  0.7507  0.7482  0.7515  0.7507  0.7495  0.0019  \n",
            "Fit time          0.11    0.15    0.14    0.15    0.14    0.14    0.01    \n",
            "Test time         1.11    1.30    1.14    1.15    1.12    1.17    0.07    \n",
            "6\n",
            "Computing the msd similarity matrix...\n",
            "Done computing similarity matrix.\n",
            "Computing the msd similarity matrix...\n",
            "Done computing similarity matrix.\n",
            "Computing the msd similarity matrix...\n",
            "Done computing similarity matrix.\n",
            "Computing the msd similarity matrix...\n",
            "Done computing similarity matrix.\n",
            "Computing the msd similarity matrix...\n",
            "Done computing similarity matrix.\n",
            "Evaluating RMSE, MAE of algorithm KNNBasic on 5 split(s).\n",
            "\n",
            "                  Fold 1  Fold 2  Fold 3  Fold 4  Fold 5  Mean    Std     \n",
            "RMSE (testset)    0.9692  0.9711  0.9762  0.9826  0.9664  0.9731  0.0057  \n",
            "MAE (testset)     0.7408  0.7412  0.7470  0.7501  0.7426  0.7444  0.0036  \n",
            "Fit time          0.12    0.14    0.14    0.15    0.15    0.14    0.01    \n",
            "Test time         1.14    1.17    1.18    1.17    1.17    1.17    0.01    \n",
            "7\n",
            "Computing the msd similarity matrix...\n",
            "Done computing similarity matrix.\n",
            "Computing the msd similarity matrix...\n",
            "Done computing similarity matrix.\n",
            "Computing the msd similarity matrix...\n",
            "Done computing similarity matrix.\n",
            "Computing the msd similarity matrix...\n",
            "Done computing similarity matrix.\n",
            "Computing the msd similarity matrix...\n",
            "Done computing similarity matrix.\n",
            "Evaluating RMSE, MAE of algorithm KNNBasic on 5 split(s).\n",
            "\n",
            "                  Fold 1  Fold 2  Fold 3  Fold 4  Fold 5  Mean    Std     \n",
            "RMSE (testset)    0.9677  0.9682  0.9702  0.9729  0.9668  0.9692  0.0022  \n",
            "MAE (testset)     0.7398  0.7423  0.7402  0.7447  0.7386  0.7411  0.0021  \n",
            "Fit time          0.11    0.15    0.14    0.15    0.14    0.14    0.01    \n",
            "Test time         1.19    1.20    1.20    1.19    1.17    1.19    0.01    \n",
            "8\n",
            "Computing the msd similarity matrix...\n",
            "Done computing similarity matrix.\n",
            "Computing the msd similarity matrix...\n",
            "Done computing similarity matrix.\n",
            "Computing the msd similarity matrix...\n",
            "Done computing similarity matrix.\n",
            "Computing the msd similarity matrix...\n",
            "Done computing similarity matrix.\n",
            "Computing the msd similarity matrix...\n",
            "Done computing similarity matrix.\n",
            "Evaluating RMSE, MAE of algorithm KNNBasic on 5 split(s).\n",
            "\n",
            "                  Fold 1  Fold 2  Fold 3  Fold 4  Fold 5  Mean    Std     \n",
            "RMSE (testset)    0.9710  0.9594  0.9726  0.9589  0.9674  0.9658  0.0057  \n",
            "MAE (testset)     0.7419  0.7341  0.7446  0.7342  0.7379  0.7386  0.0042  \n",
            "Fit time          0.12    0.14    0.15    0.15    0.14    0.14    0.01    \n",
            "Test time         1.23    1.23    1.21    1.24    1.25    1.23    0.01    \n",
            "9\n",
            "Computing the msd similarity matrix...\n",
            "Done computing similarity matrix.\n",
            "Computing the msd similarity matrix...\n",
            "Done computing similarity matrix.\n",
            "Computing the msd similarity matrix...\n",
            "Done computing similarity matrix.\n",
            "Computing the msd similarity matrix...\n",
            "Done computing similarity matrix.\n",
            "Computing the msd similarity matrix...\n",
            "Done computing similarity matrix.\n",
            "Evaluating RMSE, MAE of algorithm KNNBasic on 5 split(s).\n",
            "\n",
            "                  Fold 1  Fold 2  Fold 3  Fold 4  Fold 5  Mean    Std     \n",
            "RMSE (testset)    0.9635  0.9624  0.9667  0.9715  0.9599  0.9648  0.0040  \n",
            "MAE (testset)     0.7351  0.7365  0.7389  0.7421  0.7330  0.7371  0.0031  \n",
            "Fit time          0.11    0.14    0.14    0.14    0.14    0.14    0.01    \n",
            "Test time         1.24    1.28    1.22    1.42    1.27    1.29    0.07    \n",
            "10\n",
            "Computing the msd similarity matrix...\n",
            "Done computing similarity matrix.\n",
            "Computing the msd similarity matrix...\n",
            "Done computing similarity matrix.\n",
            "Computing the msd similarity matrix...\n",
            "Done computing similarity matrix.\n",
            "Computing the msd similarity matrix...\n",
            "Done computing similarity matrix.\n",
            "Computing the msd similarity matrix...\n",
            "Done computing similarity matrix.\n",
            "Evaluating RMSE, MAE of algorithm KNNBasic on 5 split(s).\n",
            "\n",
            "                  Fold 1  Fold 2  Fold 3  Fold 4  Fold 5  Mean    Std     \n",
            "RMSE (testset)    0.9603  0.9671  0.9603  0.9649  0.9634  0.9632  0.0026  \n",
            "MAE (testset)     0.7339  0.7418  0.7347  0.7403  0.7372  0.7376  0.0031  \n",
            "Fit time          0.11    0.14    0.14    0.15    0.14    0.14    0.01    \n",
            "Test time         1.28    1.27    1.30    1.26    1.28    1.28    0.01    \n",
            "11\n",
            "Computing the msd similarity matrix...\n",
            "Done computing similarity matrix.\n",
            "Computing the msd similarity matrix...\n",
            "Done computing similarity matrix.\n",
            "Computing the msd similarity matrix...\n",
            "Done computing similarity matrix.\n",
            "Computing the msd similarity matrix...\n",
            "Done computing similarity matrix.\n",
            "Computing the msd similarity matrix...\n",
            "Done computing similarity matrix.\n",
            "Evaluating RMSE, MAE of algorithm KNNBasic on 5 split(s).\n",
            "\n",
            "                  Fold 1  Fold 2  Fold 3  Fold 4  Fold 5  Mean    Std     \n",
            "RMSE (testset)    0.9709  0.9662  0.9590  0.9583  0.9594  0.9628  0.0050  \n",
            "MAE (testset)     0.7430  0.7377  0.7344  0.7327  0.7343  0.7364  0.0037  \n",
            "Fit time          0.11    0.14    0.14    0.15    0.14    0.14    0.01    \n",
            "Test time         1.31    1.28    1.31    1.45    1.29    1.33    0.06    \n",
            "12\n",
            "Computing the msd similarity matrix...\n",
            "Done computing similarity matrix.\n",
            "Computing the msd similarity matrix...\n",
            "Done computing similarity matrix.\n",
            "Computing the msd similarity matrix...\n",
            "Done computing similarity matrix.\n",
            "Computing the msd similarity matrix...\n",
            "Done computing similarity matrix.\n",
            "Computing the msd similarity matrix...\n",
            "Done computing similarity matrix.\n",
            "Evaluating RMSE, MAE of algorithm KNNBasic on 5 split(s).\n",
            "\n",
            "                  Fold 1  Fold 2  Fold 3  Fold 4  Fold 5  Mean    Std     \n",
            "RMSE (testset)    0.9625  0.9619  0.9611  0.9650  0.9595  0.9620  0.0018  \n",
            "MAE (testset)     0.7378  0.7398  0.7355  0.7368  0.7346  0.7369  0.0018  \n",
            "Fit time          0.11    0.14    0.15    0.15    0.15    0.14    0.01    \n",
            "Test time         1.33    1.33    1.33    1.33    1.33    1.33    0.00    \n",
            "13\n",
            "Computing the msd similarity matrix...\n",
            "Done computing similarity matrix.\n",
            "Computing the msd similarity matrix...\n",
            "Done computing similarity matrix.\n",
            "Computing the msd similarity matrix...\n",
            "Done computing similarity matrix.\n",
            "Computing the msd similarity matrix...\n",
            "Done computing similarity matrix.\n",
            "Computing the msd similarity matrix...\n",
            "Done computing similarity matrix.\n",
            "Evaluating RMSE, MAE of algorithm KNNBasic on 5 split(s).\n",
            "\n",
            "                  Fold 1  Fold 2  Fold 3  Fold 4  Fold 5  Mean    Std     \n",
            "RMSE (testset)    0.9583  0.9566  0.9645  0.9613  0.9677  0.9617  0.0040  \n",
            "MAE (testset)     0.7322  0.7328  0.7414  0.7384  0.7400  0.7369  0.0038  \n",
            "Fit time          0.11    0.14    0.14    0.15    0.14    0.14    0.01    \n",
            "Test time         1.32    1.33    1.37    1.33    1.35    1.34    0.02    \n",
            "14\n",
            "Computing the msd similarity matrix...\n",
            "Done computing similarity matrix.\n",
            "Computing the msd similarity matrix...\n",
            "Done computing similarity matrix.\n",
            "Computing the msd similarity matrix...\n",
            "Done computing similarity matrix.\n",
            "Computing the msd similarity matrix...\n",
            "Done computing similarity matrix.\n",
            "Computing the msd similarity matrix...\n",
            "Done computing similarity matrix.\n",
            "Evaluating RMSE, MAE of algorithm KNNBasic on 5 split(s).\n",
            "\n",
            "                  Fold 1  Fold 2  Fold 3  Fold 4  Fold 5  Mean    Std     \n",
            "RMSE (testset)    0.9629  0.9630  0.9595  0.9621  0.9649  0.9625  0.0017  \n",
            "MAE (testset)     0.7398  0.7349  0.7357  0.7392  0.7359  0.7371  0.0020  \n",
            "Fit time          0.11    0.14    0.15    0.14    0.15    0.14    0.01    \n",
            "Test time         1.37    1.38    1.38    1.38    1.36    1.37    0.01    \n",
            "15\n",
            "Computing the msd similarity matrix...\n",
            "Done computing similarity matrix.\n",
            "Computing the msd similarity matrix...\n",
            "Done computing similarity matrix.\n",
            "Computing the msd similarity matrix...\n",
            "Done computing similarity matrix.\n",
            "Computing the msd similarity matrix...\n",
            "Done computing similarity matrix.\n",
            "Computing the msd similarity matrix...\n",
            "Done computing similarity matrix.\n",
            "Evaluating RMSE, MAE of algorithm KNNBasic on 5 split(s).\n",
            "\n",
            "                  Fold 1  Fold 2  Fold 3  Fold 4  Fold 5  Mean    Std     \n",
            "RMSE (testset)    0.9576  0.9677  0.9686  0.9623  0.9514  0.9615  0.0064  \n",
            "MAE (testset)     0.7336  0.7391  0.7431  0.7354  0.7305  0.7364  0.0044  \n",
            "Fit time          0.11    0.14    0.14    0.15    0.15    0.14    0.01    \n",
            "Test time         1.37    1.37    1.37    1.54    1.39    1.41    0.07    \n",
            "16\n",
            "Computing the msd similarity matrix...\n",
            "Done computing similarity matrix.\n",
            "Computing the msd similarity matrix...\n",
            "Done computing similarity matrix.\n",
            "Computing the msd similarity matrix...\n",
            "Done computing similarity matrix.\n",
            "Computing the msd similarity matrix...\n",
            "Done computing similarity matrix.\n",
            "Computing the msd similarity matrix...\n",
            "Done computing similarity matrix.\n",
            "Evaluating RMSE, MAE of algorithm KNNBasic on 5 split(s).\n",
            "\n",
            "                  Fold 1  Fold 2  Fold 3  Fold 4  Fold 5  Mean    Std     \n",
            "RMSE (testset)    0.9651  0.9604  0.9613  0.9633  0.9594  0.9619  0.0021  \n",
            "MAE (testset)     0.7380  0.7362  0.7349  0.7392  0.7366  0.7370  0.0015  \n",
            "Fit time          0.12    0.14    0.14    0.15    0.14    0.14    0.01    \n",
            "Test time         1.40    1.40    1.42    1.37    1.42    1.40    0.02    \n",
            "17\n",
            "Computing the msd similarity matrix...\n",
            "Done computing similarity matrix.\n",
            "Computing the msd similarity matrix...\n",
            "Done computing similarity matrix.\n",
            "Computing the msd similarity matrix...\n",
            "Done computing similarity matrix.\n",
            "Computing the msd similarity matrix...\n",
            "Done computing similarity matrix.\n",
            "Computing the msd similarity matrix...\n",
            "Done computing similarity matrix.\n",
            "Evaluating RMSE, MAE of algorithm KNNBasic on 5 split(s).\n",
            "\n",
            "                  Fold 1  Fold 2  Fold 3  Fold 4  Fold 5  Mean    Std     \n",
            "RMSE (testset)    0.9544  0.9588  0.9642  0.9624  0.9606  0.9601  0.0034  \n",
            "MAE (testset)     0.7299  0.7323  0.7414  0.7380  0.7376  0.7359  0.0042  \n",
            "Fit time          0.11    0.14    0.14    0.15    0.15    0.14    0.01    \n",
            "Test time         1.42    1.39    1.41    1.42    1.42    1.41    0.01    \n",
            "18\n",
            "Computing the msd similarity matrix...\n",
            "Done computing similarity matrix.\n",
            "Computing the msd similarity matrix...\n",
            "Done computing similarity matrix.\n",
            "Computing the msd similarity matrix...\n",
            "Done computing similarity matrix.\n",
            "Computing the msd similarity matrix...\n",
            "Done computing similarity matrix.\n",
            "Computing the msd similarity matrix...\n",
            "Done computing similarity matrix.\n",
            "Evaluating RMSE, MAE of algorithm KNNBasic on 5 split(s).\n",
            "\n",
            "                  Fold 1  Fold 2  Fold 3  Fold 4  Fold 5  Mean    Std     \n",
            "RMSE (testset)    0.9661  0.9710  0.9567  0.9594  0.9627  0.9632  0.0050  \n",
            "MAE (testset)     0.7391  0.7436  0.7362  0.7346  0.7381  0.7383  0.0031  \n",
            "Fit time          0.12    0.14    0.14    0.14    0.15    0.14    0.01    \n",
            "Test time         1.43    1.44    1.43    1.40    1.42    1.43    0.01    \n",
            "19\n",
            "18 0.9600814816245453\n"
          ],
          "name": "stdout"
        }
      ]
    },
    {
      "cell_type": "markdown",
      "metadata": {
        "id": "uMDEMoRa_CJN"
      },
      "source": [
        "**For ICF**"
      ]
    },
    {
      "cell_type": "code",
      "metadata": {
        "colab": {
          "base_uri": "https://localhost:8080/"
        },
        "id": "-J9h3hz6-04O",
        "outputId": "45e11930-e613-485f-9572-7c9219d61239"
      },
      "source": [
        "min_k = 1\n",
        "mean = 99999\n",
        "icf_k_results = []\n",
        "\n",
        "for i in range(20):\n",
        "  knn_ucf = KNNBasic(sim_options={'user_based': False}, k=i)\n",
        "  cv_knn_ucf = cross_validate(knn_ucf, data, measures, verbose=True, cv=5)\n",
        "\n",
        "  curr_mean = cv_knn_ucf['test_rmse'].mean()\n",
        "  if curr_mean < mean:\n",
        "    mean = curr_mean\n",
        "    min_k = i\n",
        "  icf_k_results.append(curr_mean)\n",
        "  print(i)\n",
        "\n",
        "print(min_k, mean)"
      ],
      "execution_count": 32,
      "outputs": [
        {
          "output_type": "stream",
          "text": [
            "Computing the msd similarity matrix...\n",
            "Done computing similarity matrix.\n",
            "Computing the msd similarity matrix...\n",
            "Done computing similarity matrix.\n",
            "Computing the msd similarity matrix...\n",
            "Done computing similarity matrix.\n",
            "Computing the msd similarity matrix...\n",
            "Done computing similarity matrix.\n",
            "Computing the msd similarity matrix...\n",
            "Done computing similarity matrix.\n",
            "Evaluating RMSE, MAE of algorithm KNNBasic on 5 split(s).\n",
            "\n",
            "                  Fold 1  Fold 2  Fold 3  Fold 4  Fold 5  Mean    Std     \n",
            "RMSE (testset)    1.0598  1.0557  1.0583  1.0585  1.0579  1.0581  0.0013  \n",
            "MAE (testset)     0.8516  0.8472  0.8503  0.8486  0.8513  0.8498  0.0017  \n",
            "Fit time          3.68    3.93    3.81    3.76    3.77    3.79    0.08    \n",
            "Test time         4.24    4.48    4.27    4.24    4.08    4.26    0.13    \n",
            "0\n",
            "Computing the msd similarity matrix...\n",
            "Done computing similarity matrix.\n",
            "Computing the msd similarity matrix...\n",
            "Done computing similarity matrix.\n",
            "Computing the msd similarity matrix...\n",
            "Done computing similarity matrix.\n",
            "Computing the msd similarity matrix...\n",
            "Done computing similarity matrix.\n",
            "Computing the msd similarity matrix...\n",
            "Done computing similarity matrix.\n",
            "Evaluating RMSE, MAE of algorithm KNNBasic on 5 split(s).\n",
            "\n",
            "                  Fold 1  Fold 2  Fold 3  Fold 4  Fold 5  Mean    Std     \n",
            "RMSE (testset)    1.2989  1.2984  1.3039  1.3072  1.3012  1.3019  0.0033  \n",
            "MAE (testset)     0.9602  0.9634  0.9679  0.9699  0.9708  0.9665  0.0040  \n",
            "Fit time          3.82    3.75    3.69    3.71    3.81    3.76    0.05    \n",
            "Test time         4.90    5.18    5.25    5.27    5.05    5.13    0.14    \n",
            "1\n",
            "Computing the msd similarity matrix...\n",
            "Done computing similarity matrix.\n",
            "Computing the msd similarity matrix...\n",
            "Done computing similarity matrix.\n",
            "Computing the msd similarity matrix...\n",
            "Done computing similarity matrix.\n",
            "Computing the msd similarity matrix...\n",
            "Done computing similarity matrix.\n",
            "Computing the msd similarity matrix...\n",
            "Done computing similarity matrix.\n",
            "Evaluating RMSE, MAE of algorithm KNNBasic on 5 split(s).\n",
            "\n",
            "                  Fold 1  Fold 2  Fold 3  Fold 4  Fold 5  Mean    Std     \n",
            "RMSE (testset)    1.1510  1.1515  1.1447  1.1388  1.1283  1.1429  0.0087  \n",
            "MAE (testset)     0.8817  0.8815  0.8793  0.8697  0.8626  0.8749  0.0076  \n",
            "Fit time          3.73    3.75    3.73    3.95    3.74    3.78    0.08    \n",
            "Test time         5.37    5.49    5.50    5.51    5.61    5.50    0.07    \n",
            "2\n",
            "Computing the msd similarity matrix...\n",
            "Done computing similarity matrix.\n",
            "Computing the msd similarity matrix...\n",
            "Done computing similarity matrix.\n",
            "Computing the msd similarity matrix...\n",
            "Done computing similarity matrix.\n",
            "Computing the msd similarity matrix...\n",
            "Done computing similarity matrix.\n",
            "Computing the msd similarity matrix...\n",
            "Done computing similarity matrix.\n",
            "Evaluating RMSE, MAE of algorithm KNNBasic on 5 split(s).\n",
            "\n",
            "                  Fold 1  Fold 2  Fold 3  Fold 4  Fold 5  Mean    Std     \n",
            "RMSE (testset)    1.0675  1.0851  1.0805  1.0743  1.0875  1.0790  0.0073  \n",
            "MAE (testset)     0.8205  0.8353  0.8317  0.8287  0.8359  0.8304  0.0056  \n",
            "Fit time          3.75    3.80    3.73    3.77    3.81    3.77    0.03    \n",
            "Test time         5.49    5.54    5.67    5.70    5.73    5.63    0.09    \n",
            "3\n",
            "Computing the msd similarity matrix...\n",
            "Done computing similarity matrix.\n",
            "Computing the msd similarity matrix...\n",
            "Done computing similarity matrix.\n",
            "Computing the msd similarity matrix...\n",
            "Done computing similarity matrix.\n",
            "Computing the msd similarity matrix...\n",
            "Done computing similarity matrix.\n",
            "Computing the msd similarity matrix...\n",
            "Done computing similarity matrix.\n",
            "Evaluating RMSE, MAE of algorithm KNNBasic on 5 split(s).\n",
            "\n",
            "                  Fold 1  Fold 2  Fold 3  Fold 4  Fold 5  Mean    Std     \n",
            "RMSE (testset)    1.0359  1.0464  1.0387  1.0534  1.0471  1.0443  0.0063  \n",
            "MAE (testset)     0.8017  0.8068  0.8006  0.8143  0.8060  0.8059  0.0048  \n",
            "Fit time          3.83    3.76    3.85    3.75    3.65    3.77    0.07    \n",
            "Test time         5.45    5.53    5.44    5.72    5.81    5.59    0.15    \n",
            "4\n",
            "Computing the msd similarity matrix...\n",
            "Done computing similarity matrix.\n",
            "Computing the msd similarity matrix...\n",
            "Done computing similarity matrix.\n",
            "Computing the msd similarity matrix...\n",
            "Done computing similarity matrix.\n",
            "Computing the msd similarity matrix...\n",
            "Done computing similarity matrix.\n",
            "Computing the msd similarity matrix...\n",
            "Done computing similarity matrix.\n",
            "Evaluating RMSE, MAE of algorithm KNNBasic on 5 split(s).\n",
            "\n",
            "                  Fold 1  Fold 2  Fold 3  Fold 4  Fold 5  Mean    Std     \n",
            "RMSE (testset)    1.0300  1.0219  1.0225  1.0266  1.0170  1.0236  0.0044  \n",
            "MAE (testset)     0.7945  0.7915  0.7913  0.7955  0.7865  0.7919  0.0031  \n",
            "Fit time          3.73    3.83    3.79    3.84    3.77    3.79    0.04    \n",
            "Test time         5.60    5.61    5.75    5.82    5.83    5.72    0.10    \n",
            "5\n",
            "Computing the msd similarity matrix...\n",
            "Done computing similarity matrix.\n",
            "Computing the msd similarity matrix...\n",
            "Done computing similarity matrix.\n",
            "Computing the msd similarity matrix...\n",
            "Done computing similarity matrix.\n",
            "Computing the msd similarity matrix...\n",
            "Done computing similarity matrix.\n",
            "Computing the msd similarity matrix...\n",
            "Done computing similarity matrix.\n",
            "Evaluating RMSE, MAE of algorithm KNNBasic on 5 split(s).\n",
            "\n",
            "                  Fold 1  Fold 2  Fold 3  Fold 4  Fold 5  Mean    Std     \n",
            "RMSE (testset)    1.0095  1.0081  1.0077  1.0084  1.0072  1.0082  0.0008  \n",
            "MAE (testset)     0.7808  0.7788  0.7810  0.7797  0.7795  0.7800  0.0008  \n",
            "Fit time          3.71    3.74    3.76    3.76    3.78    3.75    0.02    \n",
            "Test time         5.50    5.94    5.52    5.72    5.75    5.68    0.16    \n",
            "6\n",
            "Computing the msd similarity matrix...\n",
            "Done computing similarity matrix.\n",
            "Computing the msd similarity matrix...\n",
            "Done computing similarity matrix.\n",
            "Computing the msd similarity matrix...\n",
            "Done computing similarity matrix.\n",
            "Computing the msd similarity matrix...\n",
            "Done computing similarity matrix.\n",
            "Computing the msd similarity matrix...\n",
            "Done computing similarity matrix.\n",
            "Evaluating RMSE, MAE of algorithm KNNBasic on 5 split(s).\n",
            "\n",
            "                  Fold 1  Fold 2  Fold 3  Fold 4  Fold 5  Mean    Std     \n",
            "RMSE (testset)    0.9903  1.0000  1.0136  0.9960  0.9897  0.9979  0.0087  \n",
            "MAE (testset)     0.7656  0.7709  0.7834  0.7742  0.7655  0.7719  0.0066  \n",
            "Fit time          3.64    3.80    3.84    3.80    3.76    3.77    0.07    \n",
            "Test time         5.59    5.78    5.78    5.95    5.75    5.77    0.11    \n",
            "7\n",
            "Computing the msd similarity matrix...\n",
            "Done computing similarity matrix.\n",
            "Computing the msd similarity matrix...\n",
            "Done computing similarity matrix.\n",
            "Computing the msd similarity matrix...\n",
            "Done computing similarity matrix.\n",
            "Computing the msd similarity matrix...\n",
            "Done computing similarity matrix.\n",
            "Computing the msd similarity matrix...\n",
            "Done computing similarity matrix.\n",
            "Evaluating RMSE, MAE of algorithm KNNBasic on 5 split(s).\n",
            "\n",
            "                  Fold 1  Fold 2  Fold 3  Fold 4  Fold 5  Mean    Std     \n",
            "RMSE (testset)    0.9804  0.9860  0.9796  0.9920  0.9945  0.9865  0.0060  \n",
            "MAE (testset)     0.7570  0.7624  0.7598  0.7644  0.7709  0.7629  0.0047  \n",
            "Fit time          3.71    3.82    3.76    3.78    3.83    3.78    0.04    \n",
            "Test time         5.83    5.82    6.12    5.94    6.03    5.95    0.11    \n",
            "8\n",
            "Computing the msd similarity matrix...\n",
            "Done computing similarity matrix.\n",
            "Computing the msd similarity matrix...\n",
            "Done computing similarity matrix.\n",
            "Computing the msd similarity matrix...\n",
            "Done computing similarity matrix.\n",
            "Computing the msd similarity matrix...\n",
            "Done computing similarity matrix.\n",
            "Computing the msd similarity matrix...\n",
            "Done computing similarity matrix.\n",
            "Evaluating RMSE, MAE of algorithm KNNBasic on 5 split(s).\n",
            "\n",
            "                  Fold 1  Fold 2  Fold 3  Fold 4  Fold 5  Mean    Std     \n",
            "RMSE (testset)    0.9829  0.9662  0.9852  0.9784  0.9806  0.9787  0.0067  \n",
            "MAE (testset)     0.7620  0.7485  0.7617  0.7552  0.7568  0.7568  0.0049  \n",
            "Fit time          3.75    4.25    3.80    3.95    3.79    3.91    0.18    \n",
            "Test time         5.79    6.07    6.08    6.19    5.79    5.98    0.16    \n",
            "9\n",
            "Computing the msd similarity matrix...\n",
            "Done computing similarity matrix.\n",
            "Computing the msd similarity matrix...\n",
            "Done computing similarity matrix.\n",
            "Computing the msd similarity matrix...\n",
            "Done computing similarity matrix.\n",
            "Computing the msd similarity matrix...\n",
            "Done computing similarity matrix.\n",
            "Computing the msd similarity matrix...\n",
            "Done computing similarity matrix.\n",
            "Evaluating RMSE, MAE of algorithm KNNBasic on 5 split(s).\n",
            "\n",
            "                  Fold 1  Fold 2  Fold 3  Fold 4  Fold 5  Mean    Std     \n",
            "RMSE (testset)    0.9772  0.9694  0.9785  0.9781  0.9730  0.9752  0.0035  \n",
            "MAE (testset)     0.7568  0.7479  0.7576  0.7573  0.7508  0.7541  0.0040  \n",
            "Fit time          3.69    3.80    3.79    3.73    3.83    3.77    0.05    \n",
            "Test time         5.80    5.86    6.06    5.99    5.89    5.92    0.09    \n",
            "10\n",
            "Computing the msd similarity matrix...\n",
            "Done computing similarity matrix.\n",
            "Computing the msd similarity matrix...\n",
            "Done computing similarity matrix.\n",
            "Computing the msd similarity matrix...\n",
            "Done computing similarity matrix.\n",
            "Computing the msd similarity matrix...\n",
            "Done computing similarity matrix.\n",
            "Computing the msd similarity matrix...\n",
            "Done computing similarity matrix.\n",
            "Evaluating RMSE, MAE of algorithm KNNBasic on 5 split(s).\n",
            "\n",
            "                  Fold 1  Fold 2  Fold 3  Fold 4  Fold 5  Mean    Std     \n",
            "RMSE (testset)    0.9675  0.9621  0.9639  0.9716  0.9740  0.9678  0.0045  \n",
            "MAE (testset)     0.7496  0.7464  0.7461  0.7501  0.7517  0.7488  0.0022  \n",
            "Fit time          3.70    3.78    3.81    3.86    3.75    3.78    0.05    \n",
            "Test time         5.85    6.14    5.98    6.09    6.09    6.03    0.10    \n",
            "11\n",
            "Computing the msd similarity matrix...\n",
            "Done computing similarity matrix.\n",
            "Computing the msd similarity matrix...\n",
            "Done computing similarity matrix.\n",
            "Computing the msd similarity matrix...\n",
            "Done computing similarity matrix.\n",
            "Computing the msd similarity matrix...\n",
            "Done computing similarity matrix.\n",
            "Computing the msd similarity matrix...\n",
            "Done computing similarity matrix.\n",
            "Evaluating RMSE, MAE of algorithm KNNBasic on 5 split(s).\n",
            "\n",
            "                  Fold 1  Fold 2  Fold 3  Fold 4  Fold 5  Mean    Std     \n",
            "RMSE (testset)    0.9693  0.9629  0.9622  0.9720  0.9681  0.9669  0.0038  \n",
            "MAE (testset)     0.7502  0.7445  0.7463  0.7533  0.7494  0.7487  0.0031  \n",
            "Fit time          3.72    3.79    3.81    3.95    3.81    3.82    0.07    \n",
            "Test time         5.89    6.16    6.24    6.15    6.28    6.14    0.14    \n",
            "12\n",
            "Computing the msd similarity matrix...\n",
            "Done computing similarity matrix.\n",
            "Computing the msd similarity matrix...\n",
            "Done computing similarity matrix.\n",
            "Computing the msd similarity matrix...\n",
            "Done computing similarity matrix.\n",
            "Computing the msd similarity matrix...\n",
            "Done computing similarity matrix.\n",
            "Computing the msd similarity matrix...\n",
            "Done computing similarity matrix.\n",
            "Evaluating RMSE, MAE of algorithm KNNBasic on 5 split(s).\n",
            "\n",
            "                  Fold 1  Fold 2  Fold 3  Fold 4  Fold 5  Mean    Std     \n",
            "RMSE (testset)    0.9618  0.9665  0.9634  0.9656  0.9602  0.9635  0.0023  \n",
            "MAE (testset)     0.7445  0.7479  0.7430  0.7467  0.7424  0.7449  0.0021  \n",
            "Fit time          3.75    3.76    3.77    3.78    3.77    3.77    0.01    \n",
            "Test time         6.04    6.06    6.06    6.32    6.21    6.14    0.11    \n",
            "13\n",
            "Computing the msd similarity matrix...\n",
            "Done computing similarity matrix.\n",
            "Computing the msd similarity matrix...\n",
            "Done computing similarity matrix.\n",
            "Computing the msd similarity matrix...\n",
            "Done computing similarity matrix.\n",
            "Computing the msd similarity matrix...\n",
            "Done computing similarity matrix.\n",
            "Computing the msd similarity matrix...\n",
            "Done computing similarity matrix.\n",
            "Evaluating RMSE, MAE of algorithm KNNBasic on 5 split(s).\n",
            "\n",
            "                  Fold 1  Fold 2  Fold 3  Fold 4  Fold 5  Mean    Std     \n",
            "RMSE (testset)    0.9540  0.9473  0.9716  0.9685  0.9533  0.9589  0.0094  \n",
            "MAE (testset)     0.7382  0.7303  0.7506  0.7476  0.7397  0.7413  0.0072  \n",
            "Fit time          3.68    3.72    3.80    3.80    3.85    3.77    0.06    \n",
            "Test time         6.20    6.31    6.33    6.19    6.38    6.28    0.08    \n",
            "14\n",
            "Computing the msd similarity matrix...\n",
            "Done computing similarity matrix.\n",
            "Computing the msd similarity matrix...\n",
            "Done computing similarity matrix.\n",
            "Computing the msd similarity matrix...\n",
            "Done computing similarity matrix.\n",
            "Computing the msd similarity matrix...\n",
            "Done computing similarity matrix.\n",
            "Computing the msd similarity matrix...\n",
            "Done computing similarity matrix.\n",
            "Evaluating RMSE, MAE of algorithm KNNBasic on 5 split(s).\n",
            "\n",
            "                  Fold 1  Fold 2  Fold 3  Fold 4  Fold 5  Mean    Std     \n",
            "RMSE (testset)    0.9629  0.9539  0.9525  0.9543  0.9586  0.9564  0.0038  \n",
            "MAE (testset)     0.7416  0.7362  0.7372  0.7374  0.7427  0.7390  0.0026  \n",
            "Fit time          3.74    3.75    3.75    3.77    3.82    3.77    0.03    \n",
            "Test time         6.05    6.46    6.24    6.25    6.29    6.26    0.13    \n",
            "15\n",
            "Computing the msd similarity matrix...\n",
            "Done computing similarity matrix.\n",
            "Computing the msd similarity matrix...\n",
            "Done computing similarity matrix.\n",
            "Computing the msd similarity matrix...\n",
            "Done computing similarity matrix.\n",
            "Computing the msd similarity matrix...\n",
            "Done computing similarity matrix.\n",
            "Computing the msd similarity matrix...\n",
            "Done computing similarity matrix.\n",
            "Evaluating RMSE, MAE of algorithm KNNBasic on 5 split(s).\n",
            "\n",
            "                  Fold 1  Fold 2  Fold 3  Fold 4  Fold 5  Mean    Std     \n",
            "RMSE (testset)    0.9522  0.9608  0.9499  0.9467  0.9649  0.9549  0.0068  \n",
            "MAE (testset)     0.7390  0.7412  0.7345  0.7325  0.7451  0.7385  0.0046  \n",
            "Fit time          3.78    3.69    3.74    4.26    3.75    3.84    0.21    \n",
            "Test time         6.13    6.37    6.38    6.32    6.17    6.28    0.10    \n",
            "16\n",
            "Computing the msd similarity matrix...\n",
            "Done computing similarity matrix.\n",
            "Computing the msd similarity matrix...\n",
            "Done computing similarity matrix.\n",
            "Computing the msd similarity matrix...\n",
            "Done computing similarity matrix.\n",
            "Computing the msd similarity matrix...\n",
            "Done computing similarity matrix.\n",
            "Computing the msd similarity matrix...\n",
            "Done computing similarity matrix.\n",
            "Evaluating RMSE, MAE of algorithm KNNBasic on 5 split(s).\n",
            "\n",
            "                  Fold 1  Fold 2  Fold 3  Fold 4  Fold 5  Mean    Std     \n",
            "RMSE (testset)    0.9539  0.9571  0.9524  0.9487  0.9564  0.9537  0.0030  \n",
            "MAE (testset)     0.7373  0.7397  0.7360  0.7341  0.7408  0.7376  0.0024  \n",
            "Fit time          3.70    3.71    3.61    3.78    4.00    3.76    0.13    \n",
            "Test time         6.12    6.22    6.25    6.32    6.27    6.24    0.07    \n",
            "17\n",
            "Computing the msd similarity matrix...\n",
            "Done computing similarity matrix.\n",
            "Computing the msd similarity matrix...\n",
            "Done computing similarity matrix.\n",
            "Computing the msd similarity matrix...\n",
            "Done computing similarity matrix.\n",
            "Computing the msd similarity matrix...\n",
            "Done computing similarity matrix.\n",
            "Computing the msd similarity matrix...\n",
            "Done computing similarity matrix.\n",
            "Evaluating RMSE, MAE of algorithm KNNBasic on 5 split(s).\n",
            "\n",
            "                  Fold 1  Fold 2  Fold 3  Fold 4  Fold 5  Mean    Std     \n",
            "RMSE (testset)    0.9460  0.9550  0.9499  0.9547  0.9530  0.9517  0.0034  \n",
            "MAE (testset)     0.7320  0.7376  0.7354  0.7379  0.7334  0.7353  0.0023  \n",
            "Fit time          3.82    3.78    3.81    3.73    3.75    3.78    0.03    \n",
            "Test time         6.15    6.51    6.32    6.25    6.57    6.36    0.16    \n",
            "18\n",
            "Computing the msd similarity matrix...\n",
            "Done computing similarity matrix.\n",
            "Computing the msd similarity matrix...\n",
            "Done computing similarity matrix.\n",
            "Computing the msd similarity matrix...\n",
            "Done computing similarity matrix.\n",
            "Computing the msd similarity matrix...\n",
            "Done computing similarity matrix.\n",
            "Computing the msd similarity matrix...\n",
            "Done computing similarity matrix.\n",
            "Evaluating RMSE, MAE of algorithm KNNBasic on 5 split(s).\n",
            "\n",
            "                  Fold 1  Fold 2  Fold 3  Fold 4  Fold 5  Mean    Std     \n",
            "RMSE (testset)    0.9530  0.9465  0.9477  0.9537  0.9460  0.9494  0.0033  \n",
            "MAE (testset)     0.7382  0.7325  0.7294  0.7354  0.7285  0.7328  0.0036  \n",
            "Fit time          3.55    3.67    3.78    3.76    3.88    3.73    0.11    \n",
            "Test time         6.19    6.30    6.31    6.56    6.53    6.38    0.14    \n",
            "19\n",
            "19 0.9493795570644054\n"
          ],
          "name": "stdout"
        }
      ]
    },
    {
      "cell_type": "code",
      "metadata": {
        "colab": {
          "base_uri": "https://localhost:8080/",
          "height": 294
        },
        "id": "G2mHHoeaCE4q",
        "outputId": "42cfa5d7-e222-49b7-e1c8-80621810a4f0"
      },
      "source": [
        "plt.plot(icf_k_results)\n",
        "plt.xlabel(\"K value\")\n",
        "plt.ylabel(\"RMSE \")\n",
        "plt.title(\"RMSE for different values of K for Item based CF\")\n",
        "plt.show()"
      ],
      "execution_count": 33,
      "outputs": [
        {
          "output_type": "display_data",
          "data": {
            "image/png": "[encoded data removed]",
            "text/plain": [
              "<Figure size 432x288 with 1 Axes>"
            ]
          },
          "metadata": {
            "tags": [],
            "needs_background": "light"
          }
        }
      ]
    },
    {
      "cell_type": "code",
      "metadata": {
        "colab": {
          "base_uri": "https://localhost:8080/",
          "height": 294
        },
        "id": "gkcdG15kHPYh",
        "outputId": "6c805a7c-0398-47e2-ac80-3a6a3704a2b9"
      },
      "source": [
        "plt.plot(ucf_k_results)\n",
        "plt.xlabel(\"K value\")\n",
        "plt.ylabel(\"RMSE\")\n",
        "plt.title(\"RMSE for different values of K for User based CF\")\n",
        "plt.show()"
      ],
      "execution_count": 38,
      "outputs": [
        {
          "output_type": "display_data",
          "data": {
            "image/png": "[encoded data removed]",
            "text/plain": [
              "<Figure size 432x288 with 1 Axes>"
            ]
          },
          "metadata": {
            "tags": [],
            "needs_background": "light"
          }
        }
      ]
    },
    {
      "cell_type": "markdown",
      "metadata": {
        "id": "zR99cqxMH49f"
      },
      "source": [
        "**Task 3 g.)**"
      ]
    },
    {
      "cell_type": "code",
      "metadata": {
        "colab": {
          "base_uri": "https://localhost:8080/",
          "height": 294
        },
        "id": "RMtCdcbEH4qZ",
        "outputId": "96f85422-2094-4b1e-e00d-b1109f5e6b86"
      },
      "source": [
        "plt.plot(ucf_k_results)\n",
        "plt.plot(icf_k_results, color='r')\n",
        "plt.xlabel(\"K\")\n",
        "plt.ylabel(\"RMSE\")\n",
        "plt.title(\"RMSE for various values of K for User based CF and Item based CF\")\n",
        "plt.show()"
      ],
      "execution_count": 39,
      "outputs": [
        {
          "output_type": "display_data",
          "data": {
            "image/png": "[encoded data removed]",
            "text/plain": [
              "<Figure size 432x288 with 1 Axes>"
            ]
          },
          "metadata": {
            "tags": [],
            "needs_background": "light"
          }
        }
      ]
    }
  ]
}
